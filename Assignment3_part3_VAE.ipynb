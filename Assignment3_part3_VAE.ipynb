{
  "nbformat": 4,
  "nbformat_minor": 0,
  "metadata": {
    "colab": {
      "name": "Assignment3_part3_VAE.ipynb",
      "version": "0.3.2",
      "provenance": [],
      "include_colab_link": true
    },
    "kernelspec": {
      "name": "python3",
      "display_name": "Python 3"
    },
    "accelerator": "GPU"
  },
  "cells": [
    {
      "cell_type": "markdown",
      "metadata": {
        "id": "view-in-github",
        "colab_type": "text"
      },
      "source": [
        "<a href=\"https://colab.research.google.com/github/onucharles/generative-models-cms/blob/master/Assignment3_part3_VAE.ipynb\" target=\"_parent\"><img src=\"https://colab.research.google.com/assets/colab-badge.svg\" alt=\"Open In Colab\"/></a>"
      ]
    },
    {
      "metadata": {
        "id": "Pohf2SoFqQZX",
        "colab_type": "code",
        "outputId": "a18cb6b0-3881-412a-f465-8cdbffa497f0",
        "colab": {
          "base_uri": "https://localhost:8080/",
          "height": 185
        }
      },
      "cell_type": "code",
      "source": [
        "from google.colab import auth\n",
        "\n",
        "auth.authenticate_user()\n",
        "\n",
        "!pip install pydrive\n",
        "from pydrive.auth import GoogleAuth\n",
        "from pydrive.drive import GoogleDrive\n",
        "# from google.colab import auth\n",
        "from oauth2client.client import GoogleCredentials\n",
        "#@title Functions\n",
        "def upload_to_drive(filename):\n",
        "  auth.authenticate_user()\n",
        "  gauth = GoogleAuth()\n",
        "  gauth.credentials = GoogleCredentials.get_application_default()\n",
        "  drive = GoogleDrive(gauth)\n",
        "  to_upload = drive.CreateFile({'title': filename})\n",
        "  to_upload.SetContentFile(filename)\n",
        "  to_upload.Upload()\n",
        "  return to_upload"
      ],
      "execution_count": 0,
      "outputs": [
        {
          "output_type": "stream",
          "text": [
            "Requirement already satisfied: pydrive in /usr/local/lib/python3.6/dist-packages (1.3.1)\n",
            "Requirement already satisfied: oauth2client>=4.0.0 in /usr/local/lib/python3.6/dist-packages (from pydrive) (4.1.3)\n",
            "Requirement already satisfied: google-api-python-client>=1.2 in /usr/local/lib/python3.6/dist-packages (from pydrive) (1.6.7)\n",
            "Requirement already satisfied: PyYAML>=3.0 in /usr/local/lib/python3.6/dist-packages (from pydrive) (3.13)\n",
            "Requirement already satisfied: httplib2>=0.9.1 in /usr/local/lib/python3.6/dist-packages (from oauth2client>=4.0.0->pydrive) (0.11.3)\n",
            "Requirement already satisfied: rsa>=3.1.4 in /usr/local/lib/python3.6/dist-packages (from oauth2client>=4.0.0->pydrive) (4.0)\n",
            "Requirement already satisfied: six>=1.6.1 in /usr/local/lib/python3.6/dist-packages (from oauth2client>=4.0.0->pydrive) (1.11.0)\n",
            "Requirement already satisfied: pyasn1-modules>=0.0.5 in /usr/local/lib/python3.6/dist-packages (from oauth2client>=4.0.0->pydrive) (0.2.4)\n",
            "Requirement already satisfied: pyasn1>=0.1.7 in /usr/local/lib/python3.6/dist-packages (from oauth2client>=4.0.0->pydrive) (0.4.5)\n",
            "Requirement already satisfied: uritemplate<4dev,>=3.0.0 in /usr/local/lib/python3.6/dist-packages (from google-api-python-client>=1.2->pydrive) (3.0.0)\n"
          ],
          "name": "stdout"
        }
      ]
    },
    {
      "metadata": {
        "id": "lQsxkmHdqRci",
        "colab_type": "code",
        "outputId": "30210545-4595-478a-f6c1-cee27f0e8d0b",
        "colab": {
          "base_uri": "https://localhost:8080/",
          "height": 336
        }
      },
      "cell_type": "code",
      "source": [
        "!git clone --single-branch --branch master https://github.com/onucharles/generative-models-cms.git\n",
        "!wait $!\n",
        "!mv -v generative-models-cms/* .\n",
        "!wait $!\n",
        "!rm -r generative-models-cms\n",
        "!wait $!"
      ],
      "execution_count": 0,
      "outputs": [
        {
          "output_type": "stream",
          "text": [
            "Cloning into 'generative-models-cms'...\n",
            "remote: Enumerating objects: 197, done.\u001b[K\n",
            "remote: Counting objects: 100% (197/197), done.\u001b[K\n",
            "remote: Compressing objects: 100% (119/119), done.\u001b[K\n",
            "remote: Total 197 (delta 118), reused 150 (delta 76), pack-reused 0\u001b[K\n",
            "Receiving objects: 100% (197/197), 1.43 MiB | 13.00 MiB/s, done.\n",
            "Resolving deltas: 100% (118/118), done.\n",
            "renamed 'generative-models-cms/Assignment3_part3_VAE.ipynb' -> './Assignment3_part3_VAE.ipynb'\n",
            "renamed 'generative-models-cms/classify_svhn.py' -> './classify_svhn.py'\n",
            "renamed 'generative-models-cms/density_estimation.py' -> './density_estimation.py'\n",
            "renamed 'generative-models-cms/estimate_jsd_wd.py' -> './estimate_jsd_wd.py'\n",
            "mv: cannot move 'generative-models-cms/figures' to './figures': Directory not empty\n",
            "renamed 'generative-models-cms/models.py' -> './models.py'\n",
            "renamed 'generative-models-cms/README.md' -> './README.md'\n",
            "renamed 'generative-models-cms/samplers.py' -> './samplers.py'\n",
            "renamed 'generative-models-cms/score_fid.py' -> './score_fid.py'\n",
            "renamed 'generative-models-cms/svhn_classifier.pt' -> './svhn_classifier.pt'\n",
            "renamed 'generative-models-cms/util.py' -> './util.py'\n",
            "renamed 'generative-models-cms/VAE_binary.py' -> './VAE_binary.py'\n"
          ],
          "name": "stdout"
        }
      ]
    },
    {
      "metadata": {
        "id": "R2iR-OP8qS1t",
        "colab_type": "code",
        "colab": {}
      },
      "cell_type": "code",
      "source": [
        "import os\n",
        "from torchvision.datasets import utils\n",
        "import numpy as np\n",
        "from models import VAE2, Elbo_Normal\n",
        "import torch\n",
        "import torch.nn as nn\n",
        "import torch.optim as optim\n",
        "import torch.nn.functional as F\n",
        "from torchvision.utils import save_image\n",
        "import time\n",
        "import os\n",
        "import csv\n",
        "import torchsummary\n",
        "import io\n",
        "from contextlib import redirect_stdout\n",
        "from math import ceil\n",
        "from util import load_svhn\n",
        "import VAE_binary"
      ],
      "execution_count": 0,
      "outputs": []
    },
    {
      "metadata": {
        "id": "gilL_Ut1sikD",
        "colab_type": "text"
      },
      "cell_type": "markdown",
      "source": [
        "**Set Hyperparameters**"
      ]
    },
    {
      "metadata": {
        "id": "w4oB_bE5sh3U",
        "colab_type": "code",
        "colab": {}
      },
      "cell_type": "code",
      "source": [
        "#Hyperparameters\n",
        "batch_size = 64\n",
        "lr = 3e-4\n",
        "epochs = 21\n",
        "save_interval = 3 #save model every save_interval epochs (None for not saving)\n",
        "log_interval = 100 #print results every log_interval batches (in addition to every epoch (None for not printing)\n",
        "seed = 1111\n",
        "np.random.seed(seed)\n",
        "torch.random.manual_seed(seed)\n",
        "if torch.cuda.is_available():\n",
        "    device = torch.device(\"cuda\")\n",
        "else:\n",
        "    device = torch.device(\"cpu\")"
      ],
      "execution_count": 0,
      "outputs": []
    },
    {
      "metadata": {
        "id": "8beewCkNsXPZ",
        "colab_type": "text"
      },
      "cell_type": "markdown",
      "source": [
        "**Load Data**"
      ]
    },
    {
      "metadata": {
        "id": "UNnwJ7mPsZF6",
        "colab_type": "code",
        "outputId": "160e750f-abfe-4c91-bc1f-fcde62d43151",
        "colab": {
          "base_uri": "https://localhost:8080/",
          "height": 50
        }
      },
      "cell_type": "code",
      "source": [
        "train_loader, val_loader, test_loader = load_svhn(os.curdir, batch_size=batch_size)"
      ],
      "execution_count": 0,
      "outputs": [
        {
          "output_type": "stream",
          "text": [
            "Using downloaded and verified file: ./train_32x32.mat\n",
            "Using downloaded and verified file: ./test_32x32.mat\n"
          ],
          "name": "stdout"
        }
      ]
    },
    {
      "metadata": {
        "id": "iQ_zxIcNVFM8",
        "colab_type": "text"
      },
      "cell_type": "markdown",
      "source": [
        "**Create Save Directory**"
      ]
    },
    {
      "metadata": {
        "id": "YTSZH0mNXm09",
        "colab_type": "code",
        "colab": {}
      },
      "cell_type": "code",
      "source": [
        "save_parent_dir = os.curdir\n",
        "model_folder = \"VAE_SVHN_model_\"\n",
        "previous_folders = [f for f in os.listdir(save_parent_dir) if (model_folder in f and os.path.isdir(f))]\n",
        "if not previous_folders:\n",
        "    save_dir = os.path.join(save_parent_dir, model_folder + f'{1:03d}')\n",
        "else:\n",
        "    last_model = max(previous_folders)\n",
        "    i = int(last_model.replace(model_folder,\"\")) + 1\n",
        "    save_dir = os.path.join(save_parent_dir, model_folder + f'{i:03d}')\n",
        "os.mkdir(save_dir)"
      ],
      "execution_count": 0,
      "outputs": []
    },
    {
      "metadata": {
        "id": "q_a-R6gge81p",
        "colab_type": "text"
      },
      "cell_type": "markdown",
      "source": [
        "**Create Model**"
      ]
    },
    {
      "metadata": {
        "id": "hCLGko_AeuZq",
        "colab_type": "code",
        "colab": {}
      },
      "cell_type": "code",
      "source": [
        "model = VAE2()\n",
        "model = model.to(device)\n",
        "optimizer = optim.Adam(model.parameters(), lr=lr)\n",
        "loss_fn = Elbo_Normal()"
      ],
      "execution_count": 0,
      "outputs": []
    },
    {
      "metadata": {
        "id": "92wJCvb3gU5z",
        "colab_type": "code",
        "outputId": "5e060edb-5d4a-4bbd-fb40-aca79e1106d8",
        "colab": {
          "base_uri": "https://localhost:8080/",
          "height": 944
        }
      },
      "cell_type": "code",
      "source": [
        "train_samples, _ = next(iter(train_loader))\n",
        "val_samples, _ = next(iter(val_loader))\n",
        "random_z = torch.randn((batch_size, 100))\n",
        "VAE_binary.generate_samples(model, save_dir=save_dir, epoch=0, train_samples=train_samples, val_samples=val_samples, random_z=random_z, model_outputs_logits=False)\n",
        "VAE_binary.print_model_summary(model, optimizer, save_dir=save_dir, input_size=(3,32,32))"
      ],
      "execution_count": 0,
      "outputs": [
        {
          "output_type": "stream",
          "text": [
            "/usr/local/lib/python3.6/dist-packages/torch/nn/functional.py:2423: UserWarning: Default upsampling behavior when mode=bilinear is changed to align_corners=False since 0.4.0. Please specify align_corners=True if the old behavior is desired. See the documentation of nn.Upsample for details.\n",
            "  \"See the documentation of nn.Upsample for details.\".format(mode))\n"
          ],
          "name": "stderr"
        },
        {
          "output_type": "stream",
          "text": [
            "Adam (\n",
            "Parameter Group 0\n",
            "    amsgrad: False\n",
            "    betas: (0.9, 0.999)\n",
            "    eps: 1e-08\n",
            "    lr: 0.0003\n",
            "    weight_decay: 0\n",
            ")\n",
            "----------------------------------------------------------------\n",
            "        Layer (type)               Output Shape         Param #\n",
            "================================================================\n",
            "            Conv2d-1           [-1, 32, 30, 30]             896\n",
            "               ELU-2           [-1, 32, 30, 30]               0\n",
            "       BatchNorm2d-3           [-1, 32, 30, 30]              64\n",
            "            Conv2d-4           [-1, 64, 28, 28]          18,496\n",
            "               ELU-5           [-1, 64, 28, 28]               0\n",
            "       BatchNorm2d-6           [-1, 64, 28, 28]             128\n",
            "         AvgPool2d-7           [-1, 64, 14, 14]               0\n",
            "            Conv2d-8          [-1, 256, 12, 12]         147,712\n",
            "               ELU-9          [-1, 256, 12, 12]               0\n",
            "      BatchNorm2d-10          [-1, 256, 12, 12]             512\n",
            "        AvgPool2d-11            [-1, 256, 6, 6]               0\n",
            "           Conv2d-12            [-1, 256, 1, 1]       2,359,552\n",
            "              ELU-13            [-1, 256, 1, 1]               0\n",
            "      BatchNorm2d-14            [-1, 256, 1, 1]             512\n",
            "           Linear-15                  [-1, 100]          25,700\n",
            "           Linear-16                  [-1, 100]          25,700\n",
            "         Encoder2-17     [[-1, 100], [-1, 100]]               0\n",
            "           Linear-18                  [-1, 256]          25,856\n",
            "              ELU-19            [-1, 256, 1, 1]               0\n",
            "           Conv2d-20            [-1, 256, 5, 5]       1,638,656\n",
            "              ELU-21            [-1, 256, 5, 5]               0\n",
            "      BatchNorm2d-22            [-1, 256, 5, 5]             512\n",
            "           Conv2d-23          [-1, 128, 14, 14]         295,040\n",
            "              ELU-24          [-1, 128, 14, 14]               0\n",
            "      BatchNorm2d-25          [-1, 128, 14, 14]             256\n",
            "           Conv2d-26           [-1, 32, 30, 30]          36,896\n",
            "              ELU-27           [-1, 32, 30, 30]               0\n",
            "      BatchNorm2d-28           [-1, 32, 30, 30]              64\n",
            "           Conv2d-29            [-1, 3, 32, 32]             867\n",
            "         Decoder2-30            [-1, 3, 32, 32]               0\n",
            "================================================================\n",
            "Total params: 4,577,419\n",
            "Trainable params: 4,577,419\n",
            "Non-trainable params: 0\n",
            "----------------------------------------------------------------\n",
            "Input size (MB): 0.01\n",
            "Forward/backward pass size (MB): 4.18\n",
            "Params size (MB): 17.46\n",
            "Estimated Total Size (MB): 21.65\n",
            "----------------------------------------------------------------\n",
            "\n"
          ],
          "name": "stdout"
        }
      ]
    },
    {
      "metadata": {
        "id": "Gal1SaWmn4Qj",
        "colab_type": "text"
      },
      "cell_type": "markdown",
      "source": [
        "**Train Model**"
      ]
    },
    {
      "metadata": {
        "id": "5pAuPxngi_cV",
        "colab_type": "code",
        "outputId": "52d46016-7f46-40fe-f544-26b523f52132",
        "colab": {
          "base_uri": "https://localhost:8080/",
          "height": 4304
        }
      },
      "cell_type": "code",
      "source": [
        "train_elbos, val_elbos, epoch_time = VAE_binary.train(model, optimizer, train_loader, val_loader, loss_fn, epochs=epochs,\n",
        "                                           save_dir=save_dir, save_interval=save_interval, log_interval=log_interval, \n",
        "                                           model_outputs_logits=False, train_samples=train_samples, val_samples=val_samples, random_z=random_z)"
      ],
      "execution_count": 9,
      "outputs": [
        {
          "output_type": "stream",
          "text": [
            "/usr/local/lib/python3.6/dist-packages/torch/nn/functional.py:2423: UserWarning: Default upsampling behavior when mode=bilinear is changed to align_corners=False since 0.4.0. Please specify align_corners=True if the old behavior is desired. See the documentation of nn.Upsample for details.\n",
            "  \"See the documentation of nn.Upsample for details.\".format(mode))\n"
          ],
          "name": "stderr"
        },
        {
          "output_type": "stream",
          "text": [
            "----> Epoch 0,\t Batch 0,\t Train ELBO: -3246.28\n",
            "----> Epoch 0,\t Batch 100,\t Train ELBO: -2976.27\n",
            "----> Epoch 0,\t Batch 200,\t Train ELBO: -2960.67\n",
            "----> Epoch 0,\t Batch 300,\t Train ELBO: -2953.92\n",
            "----> Epoch 0,\t Batch 400,\t Train ELBO: -2949.86\n",
            "----> Epoch 0,\t Batch 500,\t Train ELBO: -2946.90\n",
            "----> Epoch 0,\t Batch 600,\t Train ELBO: -2944.49\n",
            "----> Epoch 0,\t Batch 700,\t Train ELBO: -2942.12\n",
            "----> Epoch 0,\t Batch 800,\t Train ELBO: -2939.82\n",
            "----> Epoch 0,\t Batch 900,\t Train ELBO: -2937.90\n",
            "----> Epoch 0,\t Batch 1000,\t Train ELBO: -2936.19\n",
            "-> Epoch 0,\t Train ELBO: -2935.69,\t Validation ELBO: -2915.04,\t Max Validation ELBO: -2915.04,\t Epoch Time: 70.20 seconds\n",
            "----> Epoch 1,\t Batch 0,\t Train ELBO: -2920.60\n",
            "----> Epoch 1,\t Batch 100,\t Train ELBO: -2918.78\n",
            "----> Epoch 1,\t Batch 200,\t Train ELBO: -2918.03\n",
            "----> Epoch 1,\t Batch 300,\t Train ELBO: -2917.28\n",
            "----> Epoch 1,\t Batch 400,\t Train ELBO: -2916.73\n",
            "----> Epoch 1,\t Batch 500,\t Train ELBO: -2916.64\n",
            "----> Epoch 1,\t Batch 600,\t Train ELBO: -2916.24\n",
            "----> Epoch 1,\t Batch 700,\t Train ELBO: -2915.89\n",
            "----> Epoch 1,\t Batch 800,\t Train ELBO: -2915.55\n",
            "----> Epoch 1,\t Batch 900,\t Train ELBO: -2915.22\n",
            "----> Epoch 1,\t Batch 1000,\t Train ELBO: -2915.02\n",
            "-> Epoch 1,\t Train ELBO: -2914.95,\t Validation ELBO: -2908.56,\t Max Validation ELBO: -2908.56,\t Epoch Time: 69.20 seconds\n",
            "----> Epoch 2,\t Batch 0,\t Train ELBO: -2910.44\n",
            "----> Epoch 2,\t Batch 100,\t Train ELBO: -2912.43\n",
            "----> Epoch 2,\t Batch 200,\t Train ELBO: -2911.73\n",
            "----> Epoch 2,\t Batch 300,\t Train ELBO: -2911.99\n",
            "----> Epoch 2,\t Batch 400,\t Train ELBO: -2912.27\n",
            "----> Epoch 2,\t Batch 500,\t Train ELBO: -2912.18\n",
            "----> Epoch 2,\t Batch 600,\t Train ELBO: -2912.05\n",
            "----> Epoch 2,\t Batch 700,\t Train ELBO: -2911.99\n",
            "----> Epoch 2,\t Batch 800,\t Train ELBO: -2911.74\n",
            "----> Epoch 2,\t Batch 900,\t Train ELBO: -2911.75\n",
            "----> Epoch 2,\t Batch 1000,\t Train ELBO: -2911.63\n",
            "-> Epoch 2,\t Train ELBO: -2911.58,\t Validation ELBO: -2908.70,\t Max Validation ELBO: -2908.56,\t Epoch Time: 69.58 seconds\n",
            "----> Epoch 3,\t Batch 0,\t Train ELBO: -2905.22\n",
            "----> Epoch 3,\t Batch 100,\t Train ELBO: -2911.31\n",
            "----> Epoch 3,\t Batch 200,\t Train ELBO: -2910.80\n",
            "----> Epoch 3,\t Batch 300,\t Train ELBO: -2910.39\n",
            "----> Epoch 3,\t Batch 400,\t Train ELBO: -2910.18\n",
            "----> Epoch 3,\t Batch 500,\t Train ELBO: -2910.25\n",
            "----> Epoch 3,\t Batch 600,\t Train ELBO: -2910.12\n",
            "----> Epoch 3,\t Batch 700,\t Train ELBO: -2910.14\n",
            "----> Epoch 3,\t Batch 800,\t Train ELBO: -2910.16\n",
            "----> Epoch 3,\t Batch 900,\t Train ELBO: -2910.01\n",
            "----> Epoch 3,\t Batch 1000,\t Train ELBO: -2910.10\n",
            "-> Epoch 3,\t Train ELBO: -2910.14,\t Validation ELBO: -2906.18,\t Max Validation ELBO: -2906.18,\t Epoch Time: 69.35 seconds\n",
            "----> Epoch 4,\t Batch 0,\t Train ELBO: -2915.21\n",
            "----> Epoch 4,\t Batch 100,\t Train ELBO: -2910.58\n",
            "----> Epoch 4,\t Batch 200,\t Train ELBO: -2909.96\n",
            "----> Epoch 4,\t Batch 300,\t Train ELBO: -2909.76\n",
            "----> Epoch 4,\t Batch 400,\t Train ELBO: -2909.56\n",
            "----> Epoch 4,\t Batch 500,\t Train ELBO: -2909.63\n",
            "----> Epoch 4,\t Batch 600,\t Train ELBO: -2909.53\n",
            "----> Epoch 4,\t Batch 700,\t Train ELBO: -2909.39\n",
            "----> Epoch 4,\t Batch 800,\t Train ELBO: -2909.36\n",
            "----> Epoch 4,\t Batch 900,\t Train ELBO: -2909.41\n",
            "----> Epoch 4,\t Batch 1000,\t Train ELBO: -2909.43\n",
            "-> Epoch 4,\t Train ELBO: -2909.47,\t Validation ELBO: -2906.19,\t Max Validation ELBO: -2906.18,\t Epoch Time: 69.23 seconds\n",
            "----> Epoch 5,\t Batch 0,\t Train ELBO: -2898.66\n",
            "----> Epoch 5,\t Batch 100,\t Train ELBO: -2909.19\n",
            "----> Epoch 5,\t Batch 200,\t Train ELBO: -2908.62\n",
            "----> Epoch 5,\t Batch 300,\t Train ELBO: -2908.61\n",
            "----> Epoch 5,\t Batch 400,\t Train ELBO: -2908.61\n",
            "----> Epoch 5,\t Batch 500,\t Train ELBO: -2908.68\n",
            "----> Epoch 5,\t Batch 600,\t Train ELBO: -2908.53\n",
            "----> Epoch 5,\t Batch 700,\t Train ELBO: -2908.81\n",
            "----> Epoch 5,\t Batch 800,\t Train ELBO: -2908.74\n",
            "----> Epoch 5,\t Batch 900,\t Train ELBO: -2908.75\n",
            "----> Epoch 5,\t Batch 1000,\t Train ELBO: -2908.74\n",
            "-> Epoch 5,\t Train ELBO: -2908.71,\t Validation ELBO: -2909.15,\t Max Validation ELBO: -2906.18,\t Epoch Time: 69.22 seconds\n",
            "----> Epoch 6,\t Batch 0,\t Train ELBO: -2901.26\n",
            "----> Epoch 6,\t Batch 100,\t Train ELBO: -2909.10\n",
            "----> Epoch 6,\t Batch 200,\t Train ELBO: -2908.64\n",
            "----> Epoch 6,\t Batch 300,\t Train ELBO: -2908.03\n",
            "----> Epoch 6,\t Batch 400,\t Train ELBO: -2908.09\n",
            "----> Epoch 6,\t Batch 500,\t Train ELBO: -2908.01\n",
            "----> Epoch 6,\t Batch 600,\t Train ELBO: -2908.11\n",
            "----> Epoch 6,\t Batch 700,\t Train ELBO: -2908.13\n",
            "----> Epoch 6,\t Batch 800,\t Train ELBO: -2908.10\n",
            "----> Epoch 6,\t Batch 900,\t Train ELBO: -2908.03\n",
            "----> Epoch 6,\t Batch 1000,\t Train ELBO: -2908.10\n",
            "-> Epoch 6,\t Train ELBO: -2908.07,\t Validation ELBO: -2904.39,\t Max Validation ELBO: -2904.39,\t Epoch Time: 69.21 seconds\n",
            "----> Epoch 7,\t Batch 0,\t Train ELBO: -2916.07\n",
            "----> Epoch 7,\t Batch 100,\t Train ELBO: -2908.13\n",
            "----> Epoch 7,\t Batch 200,\t Train ELBO: -2907.98\n",
            "----> Epoch 7,\t Batch 300,\t Train ELBO: -2908.39\n",
            "----> Epoch 7,\t Batch 400,\t Train ELBO: -2908.19\n",
            "----> Epoch 7,\t Batch 500,\t Train ELBO: -2908.00\n",
            "----> Epoch 7,\t Batch 600,\t Train ELBO: -2908.02\n",
            "----> Epoch 7,\t Batch 700,\t Train ELBO: -2907.91\n",
            "----> Epoch 7,\t Batch 800,\t Train ELBO: -2907.74\n",
            "----> Epoch 7,\t Batch 900,\t Train ELBO: -2907.66\n",
            "----> Epoch 7,\t Batch 1000,\t Train ELBO: -2907.65\n",
            "-> Epoch 7,\t Train ELBO: -2907.71,\t Validation ELBO: -2906.24,\t Max Validation ELBO: -2904.39,\t Epoch Time: 69.63 seconds\n",
            "----> Epoch 8,\t Batch 0,\t Train ELBO: -2910.86\n",
            "----> Epoch 8,\t Batch 100,\t Train ELBO: -2906.73\n",
            "----> Epoch 8,\t Batch 200,\t Train ELBO: -2907.23\n",
            "----> Epoch 8,\t Batch 300,\t Train ELBO: -2907.27\n",
            "----> Epoch 8,\t Batch 400,\t Train ELBO: -2907.31\n",
            "----> Epoch 8,\t Batch 500,\t Train ELBO: -2907.31\n",
            "----> Epoch 8,\t Batch 600,\t Train ELBO: -2907.60\n",
            "----> Epoch 8,\t Batch 700,\t Train ELBO: -2907.53\n",
            "----> Epoch 8,\t Batch 800,\t Train ELBO: -2907.56\n",
            "----> Epoch 8,\t Batch 900,\t Train ELBO: -2907.49\n",
            "----> Epoch 8,\t Batch 1000,\t Train ELBO: -2907.44\n",
            "-> Epoch 8,\t Train ELBO: -2907.38,\t Validation ELBO: -2905.18,\t Max Validation ELBO: -2904.39,\t Epoch Time: 69.39 seconds\n",
            "----> Epoch 9,\t Batch 0,\t Train ELBO: -2898.54\n",
            "----> Epoch 9,\t Batch 100,\t Train ELBO: -2906.22\n",
            "----> Epoch 9,\t Batch 200,\t Train ELBO: -2906.53\n",
            "----> Epoch 9,\t Batch 300,\t Train ELBO: -2906.55\n",
            "----> Epoch 9,\t Batch 400,\t Train ELBO: -2906.86\n",
            "----> Epoch 9,\t Batch 500,\t Train ELBO: -2906.83\n",
            "----> Epoch 9,\t Batch 600,\t Train ELBO: -2906.86\n",
            "----> Epoch 9,\t Batch 700,\t Train ELBO: -2906.88\n",
            "----> Epoch 9,\t Batch 800,\t Train ELBO: -2906.72\n",
            "----> Epoch 9,\t Batch 900,\t Train ELBO: -2906.67\n",
            "----> Epoch 9,\t Batch 1000,\t Train ELBO: -2906.75\n",
            "-> Epoch 9,\t Train ELBO: -2906.78,\t Validation ELBO: -2903.08,\t Max Validation ELBO: -2903.08,\t Epoch Time: 69.42 seconds\n",
            "----> Epoch 10,\t Batch 0,\t Train ELBO: -2900.85\n",
            "----> Epoch 10,\t Batch 100,\t Train ELBO: -2907.15\n",
            "----> Epoch 10,\t Batch 200,\t Train ELBO: -2906.99\n",
            "----> Epoch 10,\t Batch 300,\t Train ELBO: -2907.06\n",
            "----> Epoch 10,\t Batch 400,\t Train ELBO: -2907.07\n",
            "----> Epoch 10,\t Batch 500,\t Train ELBO: -2906.85\n",
            "----> Epoch 10,\t Batch 600,\t Train ELBO: -2906.75\n",
            "----> Epoch 10,\t Batch 700,\t Train ELBO: -2906.63\n",
            "----> Epoch 10,\t Batch 800,\t Train ELBO: -2906.63\n",
            "----> Epoch 10,\t Batch 900,\t Train ELBO: -2906.74\n",
            "----> Epoch 10,\t Batch 1000,\t Train ELBO: -2906.73\n",
            "-> Epoch 10,\t Train ELBO: -2906.76,\t Validation ELBO: -2903.54,\t Max Validation ELBO: -2903.08,\t Epoch Time: 69.35 seconds\n",
            "----> Epoch 11,\t Batch 0,\t Train ELBO: -2900.21\n",
            "----> Epoch 11,\t Batch 100,\t Train ELBO: -2907.40\n",
            "----> Epoch 11,\t Batch 200,\t Train ELBO: -2906.32\n",
            "----> Epoch 11,\t Batch 300,\t Train ELBO: -2905.92\n",
            "----> Epoch 11,\t Batch 400,\t Train ELBO: -2906.51\n",
            "----> Epoch 11,\t Batch 500,\t Train ELBO: -2906.55\n",
            "----> Epoch 11,\t Batch 600,\t Train ELBO: -2906.58\n",
            "----> Epoch 11,\t Batch 700,\t Train ELBO: -2906.47\n",
            "----> Epoch 11,\t Batch 800,\t Train ELBO: -2906.66\n",
            "----> Epoch 11,\t Batch 900,\t Train ELBO: -2906.69\n",
            "----> Epoch 11,\t Batch 1000,\t Train ELBO: -2906.70\n",
            "-> Epoch 11,\t Train ELBO: -2906.70,\t Validation ELBO: -2903.72,\t Max Validation ELBO: -2903.08,\t Epoch Time: 69.77 seconds\n",
            "----> Epoch 12,\t Batch 0,\t Train ELBO: -2906.22\n",
            "----> Epoch 12,\t Batch 100,\t Train ELBO: -2905.90\n",
            "----> Epoch 12,\t Batch 200,\t Train ELBO: -2906.04\n",
            "----> Epoch 12,\t Batch 300,\t Train ELBO: -2905.96\n",
            "----> Epoch 12,\t Batch 400,\t Train ELBO: -2906.26\n",
            "----> Epoch 12,\t Batch 500,\t Train ELBO: -2906.49\n",
            "----> Epoch 12,\t Batch 600,\t Train ELBO: -2906.43\n",
            "----> Epoch 12,\t Batch 700,\t Train ELBO: -2906.38\n",
            "----> Epoch 12,\t Batch 800,\t Train ELBO: -2906.27\n",
            "----> Epoch 12,\t Batch 900,\t Train ELBO: -2906.29\n",
            "----> Epoch 12,\t Batch 1000,\t Train ELBO: -2906.25\n",
            "-> Epoch 12,\t Train ELBO: -2906.26,\t Validation ELBO: -2904.60,\t Max Validation ELBO: -2903.08,\t Epoch Time: 69.35 seconds\n",
            "----> Epoch 13,\t Batch 0,\t Train ELBO: -2903.64\n",
            "----> Epoch 13,\t Batch 100,\t Train ELBO: -2905.62\n",
            "----> Epoch 13,\t Batch 200,\t Train ELBO: -2905.86\n",
            "----> Epoch 13,\t Batch 300,\t Train ELBO: -2906.15\n",
            "----> Epoch 13,\t Batch 400,\t Train ELBO: -2906.27\n",
            "----> Epoch 13,\t Batch 500,\t Train ELBO: -2906.01\n",
            "----> Epoch 13,\t Batch 600,\t Train ELBO: -2906.20\n",
            "----> Epoch 13,\t Batch 700,\t Train ELBO: -2906.10\n",
            "----> Epoch 13,\t Batch 800,\t Train ELBO: -2906.00\n",
            "----> Epoch 13,\t Batch 900,\t Train ELBO: -2905.97\n",
            "----> Epoch 13,\t Batch 1000,\t Train ELBO: -2906.02\n",
            "-> Epoch 13,\t Train ELBO: -2906.02,\t Validation ELBO: -2902.40,\t Max Validation ELBO: -2902.40,\t Epoch Time: 69.39 seconds\n",
            "----> Epoch 14,\t Batch 0,\t Train ELBO: -2906.15\n",
            "----> Epoch 14,\t Batch 100,\t Train ELBO: -2905.95\n",
            "----> Epoch 14,\t Batch 200,\t Train ELBO: -2906.10\n",
            "----> Epoch 14,\t Batch 300,\t Train ELBO: -2905.55\n",
            "----> Epoch 14,\t Batch 400,\t Train ELBO: -2905.45\n",
            "----> Epoch 14,\t Batch 500,\t Train ELBO: -2905.73\n",
            "----> Epoch 14,\t Batch 600,\t Train ELBO: -2905.69\n",
            "----> Epoch 14,\t Batch 700,\t Train ELBO: -2905.69\n",
            "----> Epoch 14,\t Batch 800,\t Train ELBO: -2905.86\n",
            "----> Epoch 14,\t Batch 900,\t Train ELBO: -2905.73\n",
            "----> Epoch 14,\t Batch 1000,\t Train ELBO: -2905.69\n",
            "-> Epoch 14,\t Train ELBO: -2905.70,\t Validation ELBO: -2901.89,\t Max Validation ELBO: -2901.89,\t Epoch Time: 69.37 seconds\n",
            "----> Epoch 15,\t Batch 0,\t Train ELBO: -2912.65\n",
            "----> Epoch 15,\t Batch 100,\t Train ELBO: -2905.26\n",
            "----> Epoch 15,\t Batch 200,\t Train ELBO: -2905.39\n",
            "----> Epoch 15,\t Batch 300,\t Train ELBO: -2905.23\n",
            "----> Epoch 15,\t Batch 400,\t Train ELBO: -2905.50\n",
            "----> Epoch 15,\t Batch 500,\t Train ELBO: -2905.57\n",
            "----> Epoch 15,\t Batch 600,\t Train ELBO: -2905.63\n",
            "----> Epoch 15,\t Batch 700,\t Train ELBO: -2905.57\n",
            "----> Epoch 15,\t Batch 800,\t Train ELBO: -2905.48\n",
            "----> Epoch 15,\t Batch 900,\t Train ELBO: -2905.49\n",
            "----> Epoch 15,\t Batch 1000,\t Train ELBO: -2905.42\n",
            "-> Epoch 15,\t Train ELBO: -2905.47,\t Validation ELBO: -2902.39,\t Max Validation ELBO: -2901.89,\t Epoch Time: 69.50 seconds\n",
            "----> Epoch 16,\t Batch 0,\t Train ELBO: -2912.30\n",
            "----> Epoch 16,\t Batch 100,\t Train ELBO: -2905.51\n",
            "----> Epoch 16,\t Batch 200,\t Train ELBO: -2905.04\n",
            "----> Epoch 16,\t Batch 300,\t Train ELBO: -2904.99\n",
            "----> Epoch 16,\t Batch 400,\t Train ELBO: -2904.88\n",
            "----> Epoch 16,\t Batch 500,\t Train ELBO: -2905.25\n",
            "----> Epoch 16,\t Batch 600,\t Train ELBO: -2905.28\n",
            "----> Epoch 16,\t Batch 700,\t Train ELBO: -2905.41\n",
            "----> Epoch 16,\t Batch 800,\t Train ELBO: -2905.32\n",
            "----> Epoch 16,\t Batch 900,\t Train ELBO: -2905.28\n",
            "----> Epoch 16,\t Batch 1000,\t Train ELBO: -2905.34\n",
            "-> Epoch 16,\t Train ELBO: -2905.37,\t Validation ELBO: -2902.17,\t Max Validation ELBO: -2901.89,\t Epoch Time: 69.42 seconds\n",
            "----> Epoch 17,\t Batch 0,\t Train ELBO: -2899.80\n",
            "----> Epoch 17,\t Batch 100,\t Train ELBO: -2904.43\n",
            "----> Epoch 17,\t Batch 200,\t Train ELBO: -2904.58\n",
            "----> Epoch 17,\t Batch 300,\t Train ELBO: -2904.63\n",
            "----> Epoch 17,\t Batch 400,\t Train ELBO: -2905.02\n",
            "----> Epoch 17,\t Batch 500,\t Train ELBO: -2905.11\n",
            "----> Epoch 17,\t Batch 600,\t Train ELBO: -2905.03\n",
            "----> Epoch 17,\t Batch 700,\t Train ELBO: -2904.91\n",
            "----> Epoch 17,\t Batch 800,\t Train ELBO: -2905.03\n",
            "----> Epoch 17,\t Batch 900,\t Train ELBO: -2905.13\n",
            "----> Epoch 17,\t Batch 1000,\t Train ELBO: -2905.18\n",
            "-> Epoch 17,\t Train ELBO: -2905.20,\t Validation ELBO: -2902.44,\t Max Validation ELBO: -2901.89,\t Epoch Time: 69.37 seconds\n",
            "----> Epoch 18,\t Batch 0,\t Train ELBO: -2899.81\n",
            "----> Epoch 18,\t Batch 100,\t Train ELBO: -2904.96\n",
            "----> Epoch 18,\t Batch 200,\t Train ELBO: -2905.28\n",
            "----> Epoch 18,\t Batch 300,\t Train ELBO: -2905.70\n",
            "----> Epoch 18,\t Batch 400,\t Train ELBO: -2905.69\n",
            "----> Epoch 18,\t Batch 500,\t Train ELBO: -2905.68\n",
            "----> Epoch 18,\t Batch 600,\t Train ELBO: -2905.34\n",
            "----> Epoch 18,\t Batch 700,\t Train ELBO: -2905.24\n",
            "----> Epoch 18,\t Batch 800,\t Train ELBO: -2905.01\n",
            "----> Epoch 18,\t Batch 900,\t Train ELBO: -2904.95\n",
            "----> Epoch 18,\t Batch 1000,\t Train ELBO: -2904.98\n",
            "-> Epoch 18,\t Train ELBO: -2905.04,\t Validation ELBO: -2902.35,\t Max Validation ELBO: -2901.89,\t Epoch Time: 69.33 seconds\n",
            "----> Epoch 19,\t Batch 0,\t Train ELBO: -2899.70\n",
            "----> Epoch 19,\t Batch 100,\t Train ELBO: -2905.88\n",
            "----> Epoch 19,\t Batch 200,\t Train ELBO: -2904.93\n",
            "----> Epoch 19,\t Batch 300,\t Train ELBO: -2904.95\n",
            "----> Epoch 19,\t Batch 400,\t Train ELBO: -2904.86\n",
            "----> Epoch 19,\t Batch 500,\t Train ELBO: -2904.85\n",
            "----> Epoch 19,\t Batch 600,\t Train ELBO: -2904.74\n",
            "----> Epoch 19,\t Batch 700,\t Train ELBO: -2904.70\n",
            "----> Epoch 19,\t Batch 800,\t Train ELBO: -2904.63\n",
            "----> Epoch 19,\t Batch 900,\t Train ELBO: -2904.74\n",
            "----> Epoch 19,\t Batch 1000,\t Train ELBO: -2904.76\n",
            "-> Epoch 19,\t Train ELBO: -2904.78,\t Validation ELBO: -2902.02,\t Max Validation ELBO: -2901.89,\t Epoch Time: 69.34 seconds\n",
            "----> Epoch 20,\t Batch 0,\t Train ELBO: -2898.52\n",
            "----> Epoch 20,\t Batch 100,\t Train ELBO: -2904.81\n",
            "----> Epoch 20,\t Batch 200,\t Train ELBO: -2905.16\n",
            "----> Epoch 20,\t Batch 300,\t Train ELBO: -2905.05\n",
            "----> Epoch 20,\t Batch 400,\t Train ELBO: -2904.88\n",
            "----> Epoch 20,\t Batch 500,\t Train ELBO: -2904.82\n",
            "----> Epoch 20,\t Batch 600,\t Train ELBO: -2904.85\n",
            "----> Epoch 20,\t Batch 700,\t Train ELBO: -2904.75\n",
            "----> Epoch 20,\t Batch 800,\t Train ELBO: -2904.71\n",
            "----> Epoch 20,\t Batch 900,\t Train ELBO: -2904.64\n",
            "----> Epoch 20,\t Batch 1000,\t Train ELBO: -2904.74\n",
            "-> Epoch 20,\t Train ELBO: -2904.79,\t Validation ELBO: -2901.92,\t Max Validation ELBO: -2901.89,\t Epoch Time: 69.27 seconds\n"
          ],
          "name": "stdout"
        }
      ]
    },
    {
      "metadata": {
        "id": "yjQadx7ZCVZm",
        "colab_type": "text"
      },
      "cell_type": "markdown",
      "source": [
        "**Check Disentangled Representation**"
      ]
    },
    {
      "metadata": {
        "id": "FfN5s6B3CU6U",
        "colab_type": "code",
        "colab": {
          "base_uri": "https://localhost:8080/",
          "height": 70
        },
        "outputId": "32ec5e8b-96b1-4a6a-af50-0437678691ec"
      },
      "cell_type": "code",
      "source": [
        "random_z_samples_ = torch.randn((64, 100))\n",
        "epsilon = 1\n",
        "save_dir_disentangled = os.path.join(save_dir, \"disentangled_representation_samples\") \n",
        "if not os.path.isdir(save_dir_disentangled):\n",
        "  os.mkdir(save_dir_disentangled)\n",
        "VAE_binary.generate_random_samples(model, save_dir_disentangled, random_z_samples=random_z_samples_, epoch=20, num_samples=64, latent_size=100,\n",
        "                            model_outputs_logits=False, samples_per_image=64, generated_random_file=\"generated_random_samples\")\n",
        "for i in range(100):\n",
        "  random_z_samples = random_z_samples_\n",
        "  random_z_samples[:,i] += epsilon\n",
        "  VAE_binary.generate_random_samples(model, save_dir_disentangled, random_z_samples=random_z_samples, epoch=20, num_samples=64, latent_size=100,\n",
        "                            model_outputs_logits=False, samples_per_image=64, generated_random_file=f\"generated_random_samples_indexperturbed_{i}\")"
      ],
      "execution_count": 10,
      "outputs": [
        {
          "output_type": "stream",
          "text": [
            "/usr/local/lib/python3.6/dist-packages/torch/nn/functional.py:2423: UserWarning: Default upsampling behavior when mode=bilinear is changed to align_corners=False since 0.4.0. Please specify align_corners=True if the old behavior is desired. See the documentation of nn.Upsample for details.\n",
            "  \"See the documentation of nn.Upsample for details.\".format(mode))\n"
          ],
          "name": "stderr"
        }
      ]
    },
    {
      "metadata": {
        "colab_type": "text",
        "id": "_KbhVgQnGMKe"
      },
      "cell_type": "markdown",
      "source": [
        "**Interpolation in the Latent Space**"
      ]
    },
    {
      "metadata": {
        "colab_type": "code",
        "id": "k8loMsx-GMKl",
        "colab": {
          "base_uri": "https://localhost:8080/",
          "height": 70
        },
        "outputId": "87d8afae-3434-455b-a664-49bcf1509c4c"
      },
      "cell_type": "code",
      "source": [
        "random_z_0 = torch.randn((64, 100))\n",
        "random_z_1 = torch.randn((64, 100))\n",
        "alphas = [0, 0.1, 0.2, 0.3, 0.4, 0.5, 0.6, 0.7, 0.8, 0.9, 1]\n",
        "VAE_binary.generate_interpolated_samples(model, save_dir, alphas, interpolate_images=False, random_z_0=random_z_0, random_z_1=random_z_1, \n",
        "                              epoch=20, num_samples=64, latent_size=100, model_outputs_logits=False)\n",
        "VAE_binary.generate_interpolated_samples(model, save_dir, alphas, interpolate_images=True, random_z_0=random_z_0, random_z_1=random_z_1, \n",
        "                              epoch=20, num_samples=64, latent_size=100, model_outputs_logits=False)"
      ],
      "execution_count": 11,
      "outputs": [
        {
          "output_type": "stream",
          "text": [
            "/usr/local/lib/python3.6/dist-packages/torch/nn/functional.py:2423: UserWarning: Default upsampling behavior when mode=bilinear is changed to align_corners=False since 0.4.0. Please specify align_corners=True if the old behavior is desired. See the documentation of nn.Upsample for details.\n",
            "  \"See the documentation of nn.Upsample for details.\".format(mode))\n"
          ],
          "name": "stderr"
        }
      ]
    },
    {
      "metadata": {
        "id": "KActuZhkqjJY",
        "colab_type": "code",
        "colab": {
          "base_uri": "https://localhost:8080/",
          "height": 2842
        },
        "outputId": "f8b4e9a3-8f3f-4534-f83b-90592147ad8a"
      },
      "cell_type": "code",
      "source": [
        "!zip -r VAE_SVHN_model_009.zip VAE_SVHN_model_009\n",
        "upload_to_drive('VAE_SVHN_model_009.zip')"
      ],
      "execution_count": 12,
      "outputs": [
        {
          "output_type": "stream",
          "text": [
            "  adding: VAE_SVHN_model_009/ (stored 0%)\n",
            "  adding: VAE_SVHN_model_009/generated_random_samples_15.png (deflated 0%)\n",
            "  adding: VAE_SVHN_model_009/generated_val_samples_best.png (deflated 0%)\n",
            "  adding: VAE_SVHN_model_009/disentangled_representation_samples/ (stored 0%)\n",
            "  adding: VAE_SVHN_model_009/disentangled_representation_samples/generated_random_samples_indexperturbed_2_epoch_20_numsamples_64_001.png (deflated 0%)\n",
            "  adding: VAE_SVHN_model_009/disentangled_representation_samples/generated_random_samples_indexperturbed_49_epoch_20_numsamples_64_001.png (deflated 0%)\n",
            "  adding: VAE_SVHN_model_009/disentangled_representation_samples/generated_random_samples_indexperturbed_13_epoch_20_numsamples_64_001.png (deflated 0%)\n",
            "  adding: VAE_SVHN_model_009/disentangled_representation_samples/generated_random_samples_indexperturbed_15_epoch_20_numsamples_64_001.png (deflated 0%)\n",
            "  adding: VAE_SVHN_model_009/disentangled_representation_samples/generated_random_samples_indexperturbed_21_epoch_20_numsamples_64_001.png (deflated 0%)\n",
            "  adding: VAE_SVHN_model_009/disentangled_representation_samples/generated_random_samples_indexperturbed_9_epoch_20_numsamples_64_001.png (deflated 0%)\n",
            "  adding: VAE_SVHN_model_009/disentangled_representation_samples/generated_random_samples_indexperturbed_39_epoch_20_numsamples_64_001.png (deflated 0%)\n",
            "  adding: VAE_SVHN_model_009/disentangled_representation_samples/generated_random_samples_indexperturbed_36_epoch_20_numsamples_64_001.png (deflated 0%)\n",
            "  adding: VAE_SVHN_model_009/disentangled_representation_samples/generated_random_samples_indexperturbed_50_epoch_20_numsamples_64_001.png (deflated 0%)\n",
            "  adding: VAE_SVHN_model_009/disentangled_representation_samples/generated_random_samples_indexperturbed_74_epoch_20_numsamples_64_001.png (deflated 0%)\n",
            "  adding: VAE_SVHN_model_009/disentangled_representation_samples/generated_random_samples_indexperturbed_42_epoch_20_numsamples_64_001.png (deflated 0%)\n",
            "  adding: VAE_SVHN_model_009/disentangled_representation_samples/generated_random_samples_indexperturbed_22_epoch_20_numsamples_64_001.png (deflated 0%)\n",
            "  adding: VAE_SVHN_model_009/disentangled_representation_samples/generated_random_samples_indexperturbed_63_epoch_20_numsamples_64_001.png (deflated 0%)\n",
            "  adding: VAE_SVHN_model_009/disentangled_representation_samples/generated_random_samples_indexperturbed_55_epoch_20_numsamples_64_001.png (deflated 0%)\n",
            "  adding: VAE_SVHN_model_009/disentangled_representation_samples/generated_random_samples_indexperturbed_69_epoch_20_numsamples_64_001.png (deflated 0%)\n",
            "  adding: VAE_SVHN_model_009/disentangled_representation_samples/generated_random_samples_indexperturbed_53_epoch_20_numsamples_64_001.png (deflated 0%)\n",
            "  adding: VAE_SVHN_model_009/disentangled_representation_samples/generated_random_samples_indexperturbed_31_epoch_20_numsamples_64_001.png (deflated 0%)\n",
            "  adding: VAE_SVHN_model_009/disentangled_representation_samples/generated_random_samples_indexperturbed_5_epoch_20_numsamples_64_001.png (deflated 0%)\n",
            "  adding: VAE_SVHN_model_009/disentangled_representation_samples/generated_random_samples_indexperturbed_79_epoch_20_numsamples_64_001.png (deflated 0%)\n",
            "  adding: VAE_SVHN_model_009/disentangled_representation_samples/generated_random_samples_indexperturbed_70_epoch_20_numsamples_64_001.png (deflated 0%)\n",
            "  adding: VAE_SVHN_model_009/disentangled_representation_samples/generated_random_samples_indexperturbed_6_epoch_20_numsamples_64_001.png (deflated 0%)\n",
            "  adding: VAE_SVHN_model_009/disentangled_representation_samples/generated_random_samples_epoch_20_numsamples_64_001.png (deflated 0%)\n",
            "  adding: VAE_SVHN_model_009/disentangled_representation_samples/generated_random_samples_indexperturbed_61_epoch_20_numsamples_64_001.png (deflated 0%)\n",
            "  adding: VAE_SVHN_model_009/disentangled_representation_samples/generated_random_samples_indexperturbed_68_epoch_20_numsamples_64_001.png (deflated 0%)\n",
            "  adding: VAE_SVHN_model_009/disentangled_representation_samples/generated_random_samples_indexperturbed_95_epoch_20_numsamples_64_001.png (deflated 0%)\n",
            "  adding: VAE_SVHN_model_009/disentangled_representation_samples/generated_random_samples_indexperturbed_65_epoch_20_numsamples_64_001.png (deflated 0%)\n",
            "  adding: VAE_SVHN_model_009/disentangled_representation_samples/generated_random_samples_indexperturbed_82_epoch_20_numsamples_64_001.png (deflated 0%)\n",
            "  adding: VAE_SVHN_model_009/disentangled_representation_samples/generated_random_samples_indexperturbed_48_epoch_20_numsamples_64_001.png (deflated 0%)\n",
            "  adding: VAE_SVHN_model_009/disentangled_representation_samples/generated_random_samples_indexperturbed_29_epoch_20_numsamples_64_001.png (deflated 0%)\n",
            "  adding: VAE_SVHN_model_009/disentangled_representation_samples/generated_random_samples_indexperturbed_4_epoch_20_numsamples_64_001.png (deflated 0%)\n",
            "  adding: VAE_SVHN_model_009/disentangled_representation_samples/generated_random_samples_indexperturbed_8_epoch_20_numsamples_64_001.png (deflated 0%)\n",
            "  adding: VAE_SVHN_model_009/disentangled_representation_samples/generated_random_samples_indexperturbed_16_epoch_20_numsamples_64_001.png (deflated 0%)\n",
            "  adding: VAE_SVHN_model_009/disentangled_representation_samples/generated_random_samples_indexperturbed_83_epoch_20_numsamples_64_001.png (deflated 0%)\n",
            "  adding: VAE_SVHN_model_009/disentangled_representation_samples/generated_random_samples_indexperturbed_58_epoch_20_numsamples_64_001.png (deflated 0%)\n",
            "  adding: VAE_SVHN_model_009/disentangled_representation_samples/generated_random_samples_indexperturbed_89_epoch_20_numsamples_64_001.png (deflated 0%)\n",
            "  adding: VAE_SVHN_model_009/disentangled_representation_samples/generated_random_samples_indexperturbed_27_epoch_20_numsamples_64_001.png (deflated 0%)\n",
            "  adding: VAE_SVHN_model_009/disentangled_representation_samples/generated_random_samples_indexperturbed_19_epoch_20_numsamples_64_001.png (deflated 0%)\n",
            "  adding: VAE_SVHN_model_009/disentangled_representation_samples/generated_random_samples_indexperturbed_51_epoch_20_numsamples_64_001.png (deflated 0%)\n",
            "  adding: VAE_SVHN_model_009/disentangled_representation_samples/generated_random_samples_indexperturbed_54_epoch_20_numsamples_64_001.png (deflated 0%)\n",
            "  adding: VAE_SVHN_model_009/disentangled_representation_samples/generated_random_samples_indexperturbed_23_epoch_20_numsamples_64_001.png (deflated 0%)\n",
            "  adding: VAE_SVHN_model_009/disentangled_representation_samples/generated_random_samples_indexperturbed_91_epoch_20_numsamples_64_001.png (deflated 0%)\n",
            "  adding: VAE_SVHN_model_009/disentangled_representation_samples/generated_random_samples_indexperturbed_80_epoch_20_numsamples_64_001.png (deflated 0%)\n",
            "  adding: VAE_SVHN_model_009/disentangled_representation_samples/generated_random_samples_indexperturbed_96_epoch_20_numsamples_64_001.png (deflated 0%)\n",
            "  adding: VAE_SVHN_model_009/disentangled_representation_samples/generated_random_samples_indexperturbed_90_epoch_20_numsamples_64_001.png (deflated 0%)\n",
            "  adding: VAE_SVHN_model_009/disentangled_representation_samples/generated_random_samples_indexperturbed_66_epoch_20_numsamples_64_001.png (deflated 0%)\n",
            "  adding: VAE_SVHN_model_009/disentangled_representation_samples/generated_random_samples_indexperturbed_81_epoch_20_numsamples_64_001.png (deflated 0%)\n",
            "  adding: VAE_SVHN_model_009/disentangled_representation_samples/generated_random_samples_indexperturbed_25_epoch_20_numsamples_64_001.png (deflated 0%)\n",
            "  adding: VAE_SVHN_model_009/disentangled_representation_samples/generated_random_samples_indexperturbed_57_epoch_20_numsamples_64_001.png (deflated 0%)\n",
            "  adding: VAE_SVHN_model_009/disentangled_representation_samples/generated_random_samples_indexperturbed_85_epoch_20_numsamples_64_001.png (deflated 0%)\n",
            "  adding: VAE_SVHN_model_009/disentangled_representation_samples/generated_random_samples_indexperturbed_34_epoch_20_numsamples_64_001.png (deflated 0%)\n",
            "  adding: VAE_SVHN_model_009/disentangled_representation_samples/generated_random_samples_indexperturbed_62_epoch_20_numsamples_64_001.png (deflated 0%)\n",
            "  adding: VAE_SVHN_model_009/disentangled_representation_samples/generated_random_samples_indexperturbed_72_epoch_20_numsamples_64_001.png (deflated 0%)\n",
            "  adding: VAE_SVHN_model_009/disentangled_representation_samples/generated_random_samples_indexperturbed_37_epoch_20_numsamples_64_001.png (deflated 0%)\n",
            "  adding: VAE_SVHN_model_009/disentangled_representation_samples/generated_random_samples_indexperturbed_32_epoch_20_numsamples_64_001.png (deflated 0%)\n",
            "  adding: VAE_SVHN_model_009/disentangled_representation_samples/generated_random_samples_indexperturbed_0_epoch_20_numsamples_64_001.png (deflated 0%)\n",
            "  adding: VAE_SVHN_model_009/disentangled_representation_samples/generated_random_samples_indexperturbed_12_epoch_20_numsamples_64_001.png (deflated 0%)\n",
            "  adding: VAE_SVHN_model_009/disentangled_representation_samples/generated_random_samples_indexperturbed_71_epoch_20_numsamples_64_001.png (deflated 0%)\n",
            "  adding: VAE_SVHN_model_009/disentangled_representation_samples/generated_random_samples_indexperturbed_87_epoch_20_numsamples_64_001.png (deflated 0%)\n",
            "  adding: VAE_SVHN_model_009/disentangled_representation_samples/generated_random_samples_indexperturbed_43_epoch_20_numsamples_64_001.png (deflated 0%)\n",
            "  adding: VAE_SVHN_model_009/disentangled_representation_samples/generated_random_samples_indexperturbed_3_epoch_20_numsamples_64_001.png (deflated 0%)\n",
            "  adding: VAE_SVHN_model_009/disentangled_representation_samples/generated_random_samples_indexperturbed_76_epoch_20_numsamples_64_001.png (deflated 0%)\n",
            "  adding: VAE_SVHN_model_009/disentangled_representation_samples/generated_random_samples_indexperturbed_93_epoch_20_numsamples_64_001.png (deflated 0%)\n",
            "  adding: VAE_SVHN_model_009/disentangled_representation_samples/generated_random_samples_indexperturbed_7_epoch_20_numsamples_64_001.png (deflated 0%)\n",
            "  adding: VAE_SVHN_model_009/disentangled_representation_samples/generated_random_samples_indexperturbed_86_epoch_20_numsamples_64_001.png (deflated 0%)\n",
            "  adding: VAE_SVHN_model_009/disentangled_representation_samples/generated_random_samples_indexperturbed_45_epoch_20_numsamples_64_001.png (deflated 0%)\n",
            "  adding: VAE_SVHN_model_009/disentangled_representation_samples/generated_random_samples_indexperturbed_44_epoch_20_numsamples_64_001.png (deflated 0%)\n",
            "  adding: VAE_SVHN_model_009/disentangled_representation_samples/generated_random_samples_indexperturbed_99_epoch_20_numsamples_64_001.png (deflated 0%)\n",
            "  adding: VAE_SVHN_model_009/disentangled_representation_samples/generated_random_samples_indexperturbed_94_epoch_20_numsamples_64_001.png (deflated 0%)\n",
            "  adding: VAE_SVHN_model_009/disentangled_representation_samples/generated_random_samples_indexperturbed_67_epoch_20_numsamples_64_001.png (deflated 0%)\n",
            "  adding: VAE_SVHN_model_009/disentangled_representation_samples/generated_random_samples_indexperturbed_40_epoch_20_numsamples_64_001.png (deflated 0%)\n",
            "  adding: VAE_SVHN_model_009/disentangled_representation_samples/generated_random_samples_indexperturbed_78_epoch_20_numsamples_64_001.png (deflated 0%)\n",
            "  adding: VAE_SVHN_model_009/disentangled_representation_samples/generated_random_samples_indexperturbed_84_epoch_20_numsamples_64_001.png (deflated 0%)\n",
            "  adding: VAE_SVHN_model_009/disentangled_representation_samples/generated_random_samples_indexperturbed_56_epoch_20_numsamples_64_001.png (deflated 0%)\n",
            "  adding: VAE_SVHN_model_009/disentangled_representation_samples/generated_random_samples_indexperturbed_17_epoch_20_numsamples_64_001.png (deflated 0%)\n",
            "  adding: VAE_SVHN_model_009/disentangled_representation_samples/generated_random_samples_indexperturbed_10_epoch_20_numsamples_64_001.png (deflated 0%)\n",
            "  adding: VAE_SVHN_model_009/disentangled_representation_samples/generated_random_samples_indexperturbed_60_epoch_20_numsamples_64_001.png (deflated 0%)\n",
            "  adding: VAE_SVHN_model_009/disentangled_representation_samples/generated_random_samples_indexperturbed_33_epoch_20_numsamples_64_001.png (deflated 0%)\n",
            "  adding: VAE_SVHN_model_009/disentangled_representation_samples/generated_random_samples_indexperturbed_41_epoch_20_numsamples_64_001.png (deflated 0%)\n",
            "  adding: VAE_SVHN_model_009/disentangled_representation_samples/generated_random_samples_indexperturbed_47_epoch_20_numsamples_64_001.png (deflated 0%)\n",
            "  adding: VAE_SVHN_model_009/disentangled_representation_samples/generated_random_samples_indexperturbed_92_epoch_20_numsamples_64_001.png (deflated 0%)\n",
            "  adding: VAE_SVHN_model_009/disentangled_representation_samples/generated_random_samples_indexperturbed_59_epoch_20_numsamples_64_001.png (deflated 0%)\n",
            "  adding: VAE_SVHN_model_009/disentangled_representation_samples/generated_random_samples_indexperturbed_52_epoch_20_numsamples_64_001.png (deflated 0%)\n",
            "  adding: VAE_SVHN_model_009/disentangled_representation_samples/generated_random_samples_indexperturbed_46_epoch_20_numsamples_64_001.png (deflated 0%)\n",
            "  adding: VAE_SVHN_model_009/disentangled_representation_samples/generated_random_samples_indexperturbed_30_epoch_20_numsamples_64_001.png (deflated 0%)\n",
            "  adding: VAE_SVHN_model_009/disentangled_representation_samples/generated_random_samples_indexperturbed_14_epoch_20_numsamples_64_001.png (deflated 0%)\n",
            "  adding: VAE_SVHN_model_009/disentangled_representation_samples/generated_random_samples_indexperturbed_64_epoch_20_numsamples_64_001.png (deflated 0%)\n",
            "  adding: VAE_SVHN_model_009/disentangled_representation_samples/generated_random_samples_indexperturbed_28_epoch_20_numsamples_64_001.png (deflated 0%)\n",
            "  adding: VAE_SVHN_model_009/disentangled_representation_samples/generated_random_samples_indexperturbed_88_epoch_20_numsamples_64_001.png (deflated 0%)\n",
            "  adding: VAE_SVHN_model_009/disentangled_representation_samples/generated_random_samples_indexperturbed_98_epoch_20_numsamples_64_001.png (deflated 0%)\n",
            "  adding: VAE_SVHN_model_009/disentangled_representation_samples/generated_random_samples_indexperturbed_11_epoch_20_numsamples_64_001.png (deflated 0%)\n",
            "  adding: VAE_SVHN_model_009/disentangled_representation_samples/generated_random_samples_indexperturbed_24_epoch_20_numsamples_64_001.png (deflated 0%)\n",
            "  adding: VAE_SVHN_model_009/disentangled_representation_samples/generated_random_samples_indexperturbed_38_epoch_20_numsamples_64_001.png (deflated 0%)\n",
            "  adding: VAE_SVHN_model_009/disentangled_representation_samples/generated_random_samples_indexperturbed_26_epoch_20_numsamples_64_001.png (deflated 0%)\n",
            "  adding: VAE_SVHN_model_009/disentangled_representation_samples/generated_random_samples_indexperturbed_1_epoch_20_numsamples_64_001.png (deflated 0%)\n",
            "  adding: VAE_SVHN_model_009/disentangled_representation_samples/generated_random_samples_indexperturbed_75_epoch_20_numsamples_64_001.png (deflated 0%)\n",
            "  adding: VAE_SVHN_model_009/disentangled_representation_samples/generated_random_samples_indexperturbed_73_epoch_20_numsamples_64_001.png (deflated 0%)\n",
            "  adding: VAE_SVHN_model_009/disentangled_representation_samples/generated_random_samples_indexperturbed_35_epoch_20_numsamples_64_001.png (deflated 0%)\n",
            "  adding: VAE_SVHN_model_009/disentangled_representation_samples/generated_random_samples_indexperturbed_20_epoch_20_numsamples_64_001.png (deflated 0%)\n",
            "  adding: VAE_SVHN_model_009/disentangled_representation_samples/generated_random_samples_indexperturbed_18_epoch_20_numsamples_64_001.png (deflated 0%)\n",
            "  adding: VAE_SVHN_model_009/disentangled_representation_samples/generated_random_samples_indexperturbed_97_epoch_20_numsamples_64_001.png (deflated 0%)\n",
            "  adding: VAE_SVHN_model_009/disentangled_representation_samples/generated_random_samples_indexperturbed_77_epoch_20_numsamples_64_001.png (deflated 0%)\n",
            "  adding: VAE_SVHN_model_009/generated_train_samples_best.png (deflated 0%)\n",
            "  adding: VAE_SVHN_model_009/generated_random_samples_3.png (deflated 0%)\n",
            "  adding: VAE_SVHN_model_009/generated_random_samples_20.png (deflated 0%)\n",
            "  adding: VAE_SVHN_model_009/model_epoch_18.pt (deflated 8%)\n",
            "  adding: VAE_SVHN_model_009/original_train_samples.png (deflated 0%)\n",
            "  adding: VAE_SVHN_model_009/generated_val_samples_9.png (deflated 0%)\n",
            "  adding: VAE_SVHN_model_009/generated_random_samples_best.png (deflated 0%)\n",
            "  adding: VAE_SVHN_model_009/generated_random_samples_12.png (deflated 0%)\n",
            "  adding: VAE_SVHN_model_009/generated_random_samples_9.png (deflated 0%)\n",
            "  adding: VAE_SVHN_model_009/stats.csv (deflated 51%)\n",
            "  adding: VAE_SVHN_model_009/generated_val_samples_6.png (deflated 0%)\n",
            "  adding: VAE_SVHN_model_009/model_epoch_0.pt (deflated 7%)\n",
            "  adding: VAE_SVHN_model_009/generated_train_samples_6.png (deflated 0%)\n",
            "  adding: VAE_SVHN_model_009/generated_random_samples_6.png (deflated 0%)\n",
            "  adding: VAE_SVHN_model_009/model_epoch_9.pt (deflated 8%)\n",
            "  adding: VAE_SVHN_model_009/model_epoch_6.pt (deflated 8%)\n",
            "  adding: VAE_SVHN_model_009/generated_random_samples_0.png (deflated 0%)\n",
            "  adding: VAE_SVHN_model_009/generated_val_samples_20.png (deflated 0%)\n",
            "  adding: VAE_SVHN_model_009/model_epoch_20.pt (deflated 8%)\n",
            "  adding: VAE_SVHN_model_009/generated_val_samples_18.png (deflated 0%)\n",
            "  adding: VAE_SVHN_model_009/generated_train_samples_20.png (deflated 0%)\n",
            "  adding: VAE_SVHN_model_009/generated_val_samples_0.png (deflated 0%)\n",
            "  adding: VAE_SVHN_model_009/generated_val_samples_3.png (deflated 0%)\n",
            "  adding: VAE_SVHN_model_009/model_best.pt (deflated 8%)\n",
            "  adding: VAE_SVHN_model_009/generated_train_samples_9.png (deflated 0%)\n",
            "  adding: VAE_SVHN_model_009/original_val_samples.png (deflated 0%)\n",
            "  adding: VAE_SVHN_model_009/generated_train_samples_18.png (deflated 0%)\n",
            "  adding: VAE_SVHN_model_009/generated_train_samples_15.png (deflated 0%)\n",
            "  adding: VAE_SVHN_model_009/generated_train_samples_12.png (deflated 0%)\n",
            "  adding: VAE_SVHN_model_009/generated_val_samples_12.png (deflated 0%)\n",
            "  adding: VAE_SVHN_model_009/model_epoch_3.pt (deflated 8%)\n",
            "  adding: VAE_SVHN_model_009/generated_random_samples_18.png (deflated 0%)\n",
            "  adding: VAE_SVHN_model_009/model_epoch_15.pt (deflated 7%)\n",
            "  adding: VAE_SVHN_model_009/model_epoch_12.pt (deflated 7%)\n",
            "  adding: VAE_SVHN_model_009/generated_train_samples_0.png (deflated 0%)\n",
            "  adding: VAE_SVHN_model_009/generated_val_samples_15.png (deflated 0%)\n",
            "  adding: VAE_SVHN_model_009/generated_train_samples_3.png (deflated 0%)\n",
            "  adding: VAE_SVHN_model_009/architecture.txt (deflated 77%)\n",
            "  adding: VAE_SVHN_model_009/interpolation_samples/ (stored 0%)\n",
            "  adding: VAE_SVHN_model_009/interpolation_samples/generated_random_samples_interpolated_latent_alpha_0.6_epoch_20.png (deflated 0%)\n",
            "  adding: VAE_SVHN_model_009/interpolation_samples/generated_random_samples_interpolated_latent_alpha_0.5_epoch_20.png (deflated 0%)\n",
            "  adding: VAE_SVHN_model_009/interpolation_samples/generated_random_samples_interpolated_latent_alpha_0.9_epoch_20.png (deflated 0%)\n",
            "  adding: VAE_SVHN_model_009/interpolation_samples/generated_random_samples_interpolated_latent_alpha_0.8_epoch_20.png (deflated 0%)\n",
            "  adding: VAE_SVHN_model_009/interpolation_samples/generated_random_samples_interpolated_images_alpha_1_epoch_20.png (deflated 0%)\n",
            "  adding: VAE_SVHN_model_009/interpolation_samples/generated_random_samples_interpolated_images_alpha_0_epoch_20.png (deflated 0%)\n",
            "  adding: VAE_SVHN_model_009/interpolation_samples/generated_random_samples_interpolated_latent_alpha_1_epoch_20.png (deflated 0%)\n",
            "  adding: VAE_SVHN_model_009/interpolation_samples/generated_random_samples_interpolated_latent_alpha_0.1_epoch_20.png (deflated 0%)\n",
            "  adding: VAE_SVHN_model_009/interpolation_samples/generated_random_samples_interpolated_images_alpha_0.8_epoch_20.png (deflated 0%)\n",
            "  adding: VAE_SVHN_model_009/interpolation_samples/generated_random_samples_interpolated_images_alpha_0.9_epoch_20.png (deflated 0%)\n",
            "  adding: VAE_SVHN_model_009/interpolation_samples/generated_random_samples_interpolated_latent_alpha_0_epoch_20.png (deflated 0%)\n",
            "  adding: VAE_SVHN_model_009/interpolation_samples/generated_random_samples_interpolated_latent_alpha_0.7_epoch_20.png (deflated 0%)\n",
            "  adding: VAE_SVHN_model_009/interpolation_samples/generated_random_samples_interpolated_images_alpha_0.7_epoch_20.png (deflated 0%)\n",
            "  adding: VAE_SVHN_model_009/interpolation_samples/generated_random_samples_interpolated_images_alpha_0.6_epoch_20.png (deflated 0%)\n",
            "  adding: VAE_SVHN_model_009/interpolation_samples/generated_random_samples_interpolated_images_alpha_0.4_epoch_20.png (deflated 0%)\n",
            "  adding: VAE_SVHN_model_009/interpolation_samples/generated_random_samples_interpolated_images_alpha_0.1_epoch_20.png (deflated 0%)\n",
            "  adding: VAE_SVHN_model_009/interpolation_samples/generated_random_samples_interpolated_latent_alpha_0.3_epoch_20.png (deflated 0%)\n",
            "  adding: VAE_SVHN_model_009/interpolation_samples/generated_random_samples_interpolated_latent_alpha_0.2_epoch_20.png (deflated 0%)\n",
            "  adding: VAE_SVHN_model_009/interpolation_samples/generated_random_samples_interpolated_latent_alpha_0.4_epoch_20.png (deflated 0%)\n",
            "  adding: VAE_SVHN_model_009/interpolation_samples/generated_random_samples_interpolated_images_alpha_0.2_epoch_20.png (deflated 0%)\n",
            "  adding: VAE_SVHN_model_009/interpolation_samples/generated_random_samples_interpolated_images_alpha_0.3_epoch_20.png (deflated 0%)\n",
            "  adding: VAE_SVHN_model_009/interpolation_samples/generated_random_samples_interpolated_images_alpha_0.5_epoch_20.png (deflated 0%)\n"
          ],
          "name": "stdout"
        },
        {
          "output_type": "execute_result",
          "data": {
            "text/plain": [
              "GoogleDriveFile({'title': 'VAE_SVHN_model_009.zip', 'mimeType': 'application/zip', 'kind': 'drive#file', 'id': '1WN_P0jj47BlkJBp3B31IBtnPDoXE0o9a', 'etag': '\"O-ZzQh-gY65a42kIgC9WL9_4IwE/MTU1NTYxMzgwNTUwMQ\"', 'selfLink': 'https://www.googleapis.com/drive/v2/files/1WN_P0jj47BlkJBp3B31IBtnPDoXE0o9a', 'webContentLink': 'https://drive.google.com/uc?id=1WN_P0jj47BlkJBp3B31IBtnPDoXE0o9a&export=download', 'alternateLink': 'https://drive.google.com/file/d/1WN_P0jj47BlkJBp3B31IBtnPDoXE0o9a/view?usp=drivesdk', 'embedLink': 'https://drive.google.com/file/d/1WN_P0jj47BlkJBp3B31IBtnPDoXE0o9a/preview?usp=drivesdk', 'iconLink': 'https://drive-thirdparty.googleusercontent.com/16/type/application/zip', 'labels': {'starred': False, 'hidden': False, 'trashed': False, 'restricted': False, 'viewed': True}, 'copyRequiresWriterPermission': False, 'createdDate': '2019-04-18T18:56:45.501Z', 'modifiedDate': '2019-04-18T18:56:45.501Z', 'modifiedByMeDate': '2019-04-18T18:56:45.501Z', 'lastViewedByMeDate': '2019-04-18T18:56:45.501Z', 'markedViewedByMeDate': '1970-01-01T00:00:00.000Z', 'version': '2', 'parents': [{'kind': 'drive#parentReference', 'id': '0AFLeeQZdQE_9Uk9PVA', 'selfLink': 'https://www.googleapis.com/drive/v2/files/1WN_P0jj47BlkJBp3B31IBtnPDoXE0o9a/parents/0AFLeeQZdQE_9Uk9PVA', 'parentLink': 'https://www.googleapis.com/drive/v2/files/0AFLeeQZdQE_9Uk9PVA', 'isRoot': True}], 'downloadUrl': 'https://doc-14-3c-docs.googleusercontent.com/docs/securesc/u0icvvqc8tauo9j3l3vij9uhhiav37qc/9jb0qik7jn5tbte0s0q0jekbs9agis9p/1555610400000/01747415457873478729/01747415457873478729/1WN_P0jj47BlkJBp3B31IBtnPDoXE0o9a?e=download&gd=true', 'userPermission': {'kind': 'drive#permission', 'etag': '\"O-ZzQh-gY65a42kIgC9WL9_4IwE/orTFX5lL0eCZf1dv7BIghvXjbZI\"', 'id': 'me', 'selfLink': 'https://www.googleapis.com/drive/v2/files/1WN_P0jj47BlkJBp3B31IBtnPDoXE0o9a/permissions/me', 'role': 'owner', 'type': 'user'}, 'originalFilename': 'VAE_SVHN_model_009.zip', 'fileExtension': 'zip', 'md5Checksum': '6459bd2506e3f8503a606e47e6cd7c61', 'fileSize': '470337578', 'quotaBytesUsed': '470337578', 'ownerNames': ['Mohamed Ashraf'], 'owners': [{'kind': 'drive#user', 'displayName': 'Mohamed Ashraf', 'picture': {'url': 'https://lh4.googleusercontent.com/---els9x1hTk/AAAAAAAAAAI/AAAAAAAAAmA/qBJsQQXJmp8/s64/photo.jpg'}, 'isAuthenticatedUser': True, 'permissionId': '01747415457873478729', 'emailAddress': 'mohamedashraf9412@gmail.com'}], 'lastModifyingUserName': 'Mohamed Ashraf', 'lastModifyingUser': {'kind': 'drive#user', 'displayName': 'Mohamed Ashraf', 'picture': {'url': 'https://lh4.googleusercontent.com/---els9x1hTk/AAAAAAAAAAI/AAAAAAAAAmA/qBJsQQXJmp8/s64/photo.jpg'}, 'isAuthenticatedUser': True, 'permissionId': '01747415457873478729', 'emailAddress': 'mohamedashraf9412@gmail.com'}, 'capabilities': {'canCopy': True, 'canEdit': True}, 'editable': True, 'copyable': True, 'writersCanShare': True, 'shared': False, 'explicitlyTrashed': False, 'appDataContents': False, 'headRevisionId': '0B1LeeQZdQE_9aGcxMC91RUQ4cW9kVEJLR2lPRHB3bTBJVERZPQ', 'spaces': ['drive']})"
            ]
          },
          "metadata": {
            "tags": []
          },
          "execution_count": 12
        }
      ]
    },
    {
      "metadata": {
        "id": "wAUkWbYuSfk9",
        "colab_type": "code",
        "colab": {}
      },
      "cell_type": "code",
      "source": [
        "#!rm -r VAE_SVHN_model_001"
      ],
      "execution_count": 0,
      "outputs": []
    },
    {
      "metadata": {
        "id": "AurUIx8haJBR",
        "colab_type": "code",
        "colab": {}
      },
      "cell_type": "code",
      "source": [
        ""
      ],
      "execution_count": 0,
      "outputs": []
    }
  ]
}