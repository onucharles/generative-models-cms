{
  "nbformat": 4,
  "nbformat_minor": 0,
  "metadata": {
    "colab": {
      "name": "Assignment3_part3_VAE.ipynb",
      "version": "0.3.2",
      "provenance": [],
      "include_colab_link": true
    },
    "kernelspec": {
      "name": "python3",
      "display_name": "Python 3"
    },
    "accelerator": "GPU"
  },
  "cells": [
    {
      "cell_type": "markdown",
      "metadata": {
        "id": "view-in-github",
        "colab_type": "text"
      },
      "source": [
        "<a href=\"https://colab.research.google.com/github/onucharles/generative-models-cms/blob/master/Assignment3_part3_VAE.ipynb\" target=\"_parent\"><img src=\"https://colab.research.google.com/assets/colab-badge.svg\" alt=\"Open In Colab\"/></a>"
      ]
    },
    {
      "metadata": {
        "id": "Pohf2SoFqQZX",
        "colab_type": "code",
        "colab": {
          "base_uri": "https://localhost:8080/",
          "height": 205
        },
        "outputId": "7159e639-83e2-4a9b-a805-5c746f040534"
      },
      "cell_type": "code",
      "source": [
        "from google.colab import auth\n",
        "\n",
        "auth.authenticate_user()\n",
        "\n",
        "!pip install pydrive\n",
        "from pydrive.auth import GoogleAuth\n",
        "from pydrive.drive import GoogleDrive\n",
        "# from google.colab import auth\n",
        "from oauth2client.client import GoogleCredentials\n",
        "#@title Functions\n",
        "def upload_to_drive(filename):\n",
        "  auth.authenticate_user()\n",
        "  gauth = GoogleAuth()\n",
        "  gauth.credentials = GoogleCredentials.get_application_default()\n",
        "  drive = GoogleDrive(gauth)\n",
        "  to_upload = drive.CreateFile({'title': filename})\n",
        "  to_upload.SetContentFile(filename)\n",
        "  to_upload.Upload()\n",
        "  return to_upload"
      ],
      "execution_count": 1,
      "outputs": [
        {
          "output_type": "stream",
          "text": [
            "Requirement already satisfied: pydrive in /usr/local/lib/python3.6/dist-packages (1.3.1)\n",
            "Requirement already satisfied: oauth2client>=4.0.0 in /usr/local/lib/python3.6/dist-packages (from pydrive) (4.1.3)\n",
            "Requirement already satisfied: google-api-python-client>=1.2 in /usr/local/lib/python3.6/dist-packages (from pydrive) (1.6.7)\n",
            "Requirement already satisfied: PyYAML>=3.0 in /usr/local/lib/python3.6/dist-packages (from pydrive) (3.13)\n",
            "Requirement already satisfied: pyasn1>=0.1.7 in /usr/local/lib/python3.6/dist-packages (from oauth2client>=4.0.0->pydrive) (0.4.5)\n",
            "Requirement already satisfied: httplib2>=0.9.1 in /usr/local/lib/python3.6/dist-packages (from oauth2client>=4.0.0->pydrive) (0.11.3)\n",
            "Requirement already satisfied: pyasn1-modules>=0.0.5 in /usr/local/lib/python3.6/dist-packages (from oauth2client>=4.0.0->pydrive) (0.2.4)\n",
            "Requirement already satisfied: rsa>=3.1.4 in /usr/local/lib/python3.6/dist-packages (from oauth2client>=4.0.0->pydrive) (4.0)\n",
            "Requirement already satisfied: six>=1.6.1 in /usr/local/lib/python3.6/dist-packages (from oauth2client>=4.0.0->pydrive) (1.11.0)\n",
            "Requirement already satisfied: uritemplate<4dev,>=3.0.0 in /usr/local/lib/python3.6/dist-packages (from google-api-python-client>=1.2->pydrive) (3.0.0)\n"
          ],
          "name": "stdout"
        }
      ]
    },
    {
      "metadata": {
        "id": "lQsxkmHdqRci",
        "colab_type": "code",
        "colab": {
          "base_uri": "https://localhost:8080/",
          "height": 319
        },
        "outputId": "de9a62f4-b846-4272-be20-d072f2d1b2f4"
      },
      "cell_type": "code",
      "source": [
        "!git clone --single-branch --branch master https://github.com/onucharles/generative-models-cms.git\n",
        "!wait $!\n",
        "!mv -v generative-models-cms/* .\n",
        "!wait $!\n",
        "!rm -r generative-models-cms\n",
        "!wait $!"
      ],
      "execution_count": 2,
      "outputs": [
        {
          "output_type": "stream",
          "text": [
            "Cloning into 'generative-models-cms'...\n",
            "remote: Enumerating objects: 153, done.\u001b[K\n",
            "remote: Counting objects: 100% (153/153), done.\u001b[K\n",
            "remote: Compressing objects: 100% (95/95), done.\u001b[K\n",
            "remote: Total 153 (delta 90), reused 116 (delta 56), pack-reused 0\u001b[K\n",
            "Receiving objects: 100% (153/153), 1.42 MiB | 508.00 KiB/s, done.\n",
            "Resolving deltas: 100% (90/90), done.\n",
            "renamed 'generative-models-cms/classify_svhn.py' -> './classify_svhn.py'\n",
            "renamed 'generative-models-cms/density_estimation.py' -> './density_estimation.py'\n",
            "renamed 'generative-models-cms/estimate_jsd_wd.py' -> './estimate_jsd_wd.py'\n",
            "mv: cannot move 'generative-models-cms/figures' to './figures': Directory not empty\n",
            "renamed 'generative-models-cms/models.py' -> './models.py'\n",
            "renamed 'generative-models-cms/README.md' -> './README.md'\n",
            "renamed 'generative-models-cms/samplers.py' -> './samplers.py'\n",
            "renamed 'generative-models-cms/score_fid.py' -> './score_fid.py'\n",
            "renamed 'generative-models-cms/svhn_classifier.pt' -> './svhn_classifier.pt'\n",
            "renamed 'generative-models-cms/util.py' -> './util.py'\n",
            "renamed 'generative-models-cms/VAE_binary.py' -> './VAE_binary.py'\n"
          ],
          "name": "stdout"
        }
      ]
    },
    {
      "metadata": {
        "id": "R2iR-OP8qS1t",
        "colab_type": "code",
        "colab": {}
      },
      "cell_type": "code",
      "source": [
        "import os\n",
        "from torchvision.datasets import utils\n",
        "import numpy as np\n",
        "from models import VAE2, Elbo_Normal\n",
        "import torch\n",
        "import torch.nn as nn\n",
        "import torch.optim as optim\n",
        "import torch.nn.functional as F\n",
        "from torchvision.utils import save_image\n",
        "import time\n",
        "import os\n",
        "import csv\n",
        "import torchsummary\n",
        "import io\n",
        "from contextlib import redirect_stdout\n",
        "from math import ceil\n",
        "from util import load_svhn\n",
        "import VAE_binary"
      ],
      "execution_count": 0,
      "outputs": []
    },
    {
      "metadata": {
        "id": "gilL_Ut1sikD",
        "colab_type": "text"
      },
      "cell_type": "markdown",
      "source": [
        "**Set Hyperparameters**"
      ]
    },
    {
      "metadata": {
        "id": "w4oB_bE5sh3U",
        "colab_type": "code",
        "colab": {}
      },
      "cell_type": "code",
      "source": [
        "#Hyperparameters\n",
        "batch_size = 64\n",
        "lr = 3e-4\n",
        "epochs = 20\n",
        "save_interval = 3 #save model every save_interval epochs (None for not saving)\n",
        "log_interval = 100 #print results every log_interval batches (in addition to every epoch (None for not printing)\n",
        "seed = 1111\n",
        "np.random.seed(seed)\n",
        "torch.random.manual_seed(seed)\n",
        "if torch.cuda.is_available():\n",
        "    device = torch.device(\"cuda\")\n",
        "else:\n",
        "    device = torch.device(\"cpu\")"
      ],
      "execution_count": 0,
      "outputs": []
    },
    {
      "metadata": {
        "id": "8beewCkNsXPZ",
        "colab_type": "text"
      },
      "cell_type": "markdown",
      "source": [
        "**Load Data**"
      ]
    },
    {
      "metadata": {
        "id": "UNnwJ7mPsZF6",
        "colab_type": "code",
        "colab": {
          "base_uri": "https://localhost:8080/",
          "height": 50
        },
        "outputId": "98d8065a-1381-4406-e8a9-8af7e9ff4b1c"
      },
      "cell_type": "code",
      "source": [
        "train_loader, val_loader, test_loader = load_svhn(os.curdir, batch_size=batch_size)"
      ],
      "execution_count": 5,
      "outputs": [
        {
          "output_type": "stream",
          "text": [
            "Using downloaded and verified file: ./train_32x32.mat\n",
            "Using downloaded and verified file: ./test_32x32.mat\n"
          ],
          "name": "stdout"
        }
      ]
    },
    {
      "metadata": {
        "id": "iQ_zxIcNVFM8",
        "colab_type": "text"
      },
      "cell_type": "markdown",
      "source": [
        "**Create Save Directory**"
      ]
    },
    {
      "metadata": {
        "id": "YTSZH0mNXm09",
        "colab_type": "code",
        "colab": {}
      },
      "cell_type": "code",
      "source": [
        "save_parent_dir = os.curdir\n",
        "model_folder = \"VAE_SVHN_model_\"\n",
        "previous_folders = [f for f in os.listdir(save_parent_dir) if (model_folder in f and os.path.isdir(f))]\n",
        "if not previous_folders:\n",
        "    save_dir = os.path.join(save_parent_dir, model_folder + f'{1:03d}')\n",
        "else:\n",
        "    last_model = max(previous_folders)\n",
        "    i = int(last_model.replace(model_folder,\"\")) + 1\n",
        "    save_dir = os.path.join(save_parent_dir, model_folder + f'{i:03d}')\n",
        "os.mkdir(save_dir)"
      ],
      "execution_count": 0,
      "outputs": []
    },
    {
      "metadata": {
        "id": "q_a-R6gge81p",
        "colab_type": "text"
      },
      "cell_type": "markdown",
      "source": [
        "**Create Model**"
      ]
    },
    {
      "metadata": {
        "id": "hCLGko_AeuZq",
        "colab_type": "code",
        "colab": {}
      },
      "cell_type": "code",
      "source": [
        "model = VAE2()\n",
        "model = model.to(device)\n",
        "optimizer = optim.Adam(model.parameters(), lr=lr)\n",
        "loss_fn = Elbo_Normal()"
      ],
      "execution_count": 0,
      "outputs": []
    },
    {
      "metadata": {
        "id": "92wJCvb3gU5z",
        "colab_type": "code",
        "colab": {
          "base_uri": "https://localhost:8080/",
          "height": 877
        },
        "outputId": "741810b5-0e46-45d7-f261-d840894f03a8"
      },
      "cell_type": "code",
      "source": [
        "train_samples, _ = next(iter(train_loader))\n",
        "val_samples, _ = next(iter(val_loader))\n",
        "random_z = torch.randn((batch_size, 100))\n",
        "VAE_binary.generate_samples(model, save_dir=save_dir, epoch=0, train_samples=train_samples, val_samples=val_samples, random_z=random_z, model_outputs_logits=False)\n",
        "VAE_binary.print_model_summary(model, optimizer, save_dir=save_dir, input_size=(3,32,32))"
      ],
      "execution_count": 8,
      "outputs": [
        {
          "output_type": "stream",
          "text": [
            "Adam (\n",
            "Parameter Group 0\n",
            "    amsgrad: False\n",
            "    betas: (0.9, 0.999)\n",
            "    eps: 1e-08\n",
            "    lr: 0.0003\n",
            "    weight_decay: 0\n",
            ")\n",
            "----------------------------------------------------------------\n",
            "        Layer (type)               Output Shape         Param #\n",
            "================================================================\n",
            "            Conv2d-1           [-1, 32, 32, 32]             896\n",
            "               ELU-2           [-1, 32, 32, 32]               0\n",
            "         AvgPool2d-3           [-1, 32, 16, 16]               0\n",
            "            Conv2d-4           [-1, 64, 16, 16]          18,496\n",
            "               ELU-5           [-1, 64, 16, 16]               0\n",
            "         AvgPool2d-6             [-1, 64, 8, 8]               0\n",
            "            Conv2d-7            [-1, 256, 8, 8]         147,712\n",
            "               ELU-8            [-1, 256, 8, 8]               0\n",
            "         AvgPool2d-9            [-1, 256, 4, 4]               0\n",
            "           Conv2d-10            [-1, 256, 1, 1]       1,048,832\n",
            "              ELU-11            [-1, 256, 1, 1]               0\n",
            "           Linear-12                  [-1, 100]          25,700\n",
            "           Linear-13                  [-1, 100]          25,700\n",
            "         Encoder2-14     [[-1, 100], [-1, 100]]               0\n",
            "           Linear-15                  [-1, 256]          25,856\n",
            "              ELU-16            [-1, 256, 1, 1]               0\n",
            "           Conv2d-17            [-1, 256, 3, 3]         590,080\n",
            "              ELU-18            [-1, 256, 3, 3]               0\n",
            "           Conv2d-19             [-1, 64, 5, 5]         147,520\n",
            "              ELU-20             [-1, 64, 5, 5]               0\n",
            "           Conv2d-21           [-1, 32, 14, 14]          18,464\n",
            "              ELU-22           [-1, 32, 14, 14]               0\n",
            "           Conv2d-23           [-1, 16, 30, 30]           4,624\n",
            "              ELU-24           [-1, 16, 30, 30]               0\n",
            "           Conv2d-25            [-1, 3, 32, 32]             435\n",
            "         Decoder2-26            [-1, 3, 32, 32]               0\n",
            "================================================================\n",
            "Total params: 2,054,315\n",
            "Trainable params: 2,054,315\n",
            "Non-trainable params: 0\n",
            "----------------------------------------------------------------\n",
            "Input size (MB): 0.01\n",
            "Forward/backward pass size (MB): 1.48\n",
            "Params size (MB): 7.84\n",
            "Estimated Total Size (MB): 9.33\n",
            "----------------------------------------------------------------\n",
            "\n"
          ],
          "name": "stdout"
        },
        {
          "output_type": "stream",
          "text": [
            "/usr/local/lib/python3.6/dist-packages/torch/nn/functional.py:2423: UserWarning: Default upsampling behavior when mode=bilinear is changed to align_corners=False since 0.4.0. Please specify align_corners=True if the old behavior is desired. See the documentation of nn.Upsample for details.\n",
            "  \"See the documentation of nn.Upsample for details.\".format(mode))\n"
          ],
          "name": "stderr"
        }
      ]
    },
    {
      "metadata": {
        "id": "Gal1SaWmn4Qj",
        "colab_type": "text"
      },
      "cell_type": "markdown",
      "source": [
        "**Train Model**"
      ]
    },
    {
      "metadata": {
        "id": "5pAuPxngi_cV",
        "colab_type": "code",
        "colab": {
          "base_uri": "https://localhost:8080/",
          "height": 4102
        },
        "outputId": "20534653-d982-4019-bfae-1aa7157fb4a2"
      },
      "cell_type": "code",
      "source": [
        "train_elbos, val_elbos, epoch_time = VAE_binary.train(model, optimizer, train_loader, val_loader, loss_fn, epochs=epochs,\n",
        "                                           save_dir=save_dir, save_interval=save_interval, log_interval=log_interval, \n",
        "                                           model_outputs_logits=False, train_samples=train_samples, val_samples=val_samples, random_z=random_z)"
      ],
      "execution_count": 9,
      "outputs": [
        {
          "output_type": "stream",
          "text": [
            "----> Epoch 0,\t Batch 0,\t Train ELBO: -3120.98\n"
          ],
          "name": "stdout"
        },
        {
          "output_type": "stream",
          "text": [
            "/usr/local/lib/python3.6/dist-packages/torch/nn/functional.py:2423: UserWarning: Default upsampling behavior when mode=bilinear is changed to align_corners=False since 0.4.0. Please specify align_corners=True if the old behavior is desired. See the documentation of nn.Upsample for details.\n",
            "  \"See the documentation of nn.Upsample for details.\".format(mode))\n"
          ],
          "name": "stderr"
        },
        {
          "output_type": "stream",
          "text": [
            "----> Epoch 0,\t Batch 100,\t Train ELBO: -3000.89\n",
            "----> Epoch 0,\t Batch 200,\t Train ELBO: -2979.97\n",
            "----> Epoch 0,\t Batch 300,\t Train ELBO: -2968.22\n",
            "----> Epoch 0,\t Batch 400,\t Train ELBO: -2960.12\n",
            "----> Epoch 0,\t Batch 500,\t Train ELBO: -2954.35\n",
            "----> Epoch 0,\t Batch 600,\t Train ELBO: -2949.89\n",
            "----> Epoch 0,\t Batch 700,\t Train ELBO: -2946.20\n",
            "----> Epoch 0,\t Batch 800,\t Train ELBO: -2943.20\n",
            "----> Epoch 0,\t Batch 900,\t Train ELBO: -2940.62\n",
            "----> Epoch 0,\t Batch 1000,\t Train ELBO: -2938.54\n",
            "-> Epoch 0,\t Train ELBO: -2937.89,\t Validation ELBO: -2917.26,\t Max Validation ELBO: -2917.26,\t Epoch Time: 21.79 seconds\n",
            "----> Epoch 1,\t Batch 0,\t Train ELBO: -2905.78\n",
            "----> Epoch 1,\t Batch 100,\t Train ELBO: -2916.26\n",
            "----> Epoch 1,\t Batch 200,\t Train ELBO: -2916.36\n",
            "----> Epoch 1,\t Batch 300,\t Train ELBO: -2916.28\n",
            "----> Epoch 1,\t Batch 400,\t Train ELBO: -2915.85\n",
            "----> Epoch 1,\t Batch 500,\t Train ELBO: -2915.70\n",
            "----> Epoch 1,\t Batch 600,\t Train ELBO: -2915.49\n",
            "----> Epoch 1,\t Batch 700,\t Train ELBO: -2915.32\n",
            "----> Epoch 1,\t Batch 800,\t Train ELBO: -2915.07\n",
            "----> Epoch 1,\t Batch 900,\t Train ELBO: -2914.90\n",
            "----> Epoch 1,\t Batch 1000,\t Train ELBO: -2914.65\n",
            "-> Epoch 1,\t Train ELBO: -2914.60,\t Validation ELBO: -2912.16,\t Max Validation ELBO: -2912.16,\t Epoch Time: 21.88 seconds\n",
            "----> Epoch 2,\t Batch 0,\t Train ELBO: -2907.14\n",
            "----> Epoch 2,\t Batch 100,\t Train ELBO: -2912.50\n",
            "----> Epoch 2,\t Batch 200,\t Train ELBO: -2912.08\n",
            "----> Epoch 2,\t Batch 300,\t Train ELBO: -2911.75\n",
            "----> Epoch 2,\t Batch 400,\t Train ELBO: -2911.68\n",
            "----> Epoch 2,\t Batch 500,\t Train ELBO: -2911.56\n",
            "----> Epoch 2,\t Batch 600,\t Train ELBO: -2911.53\n",
            "----> Epoch 2,\t Batch 700,\t Train ELBO: -2911.56\n",
            "----> Epoch 2,\t Batch 800,\t Train ELBO: -2911.46\n",
            "----> Epoch 2,\t Batch 900,\t Train ELBO: -2911.42\n",
            "----> Epoch 2,\t Batch 1000,\t Train ELBO: -2911.36\n",
            "-> Epoch 2,\t Train ELBO: -2911.30,\t Validation ELBO: -2909.90,\t Max Validation ELBO: -2909.90,\t Epoch Time: 22.61 seconds\n",
            "----> Epoch 3,\t Batch 0,\t Train ELBO: -2910.44\n",
            "----> Epoch 3,\t Batch 100,\t Train ELBO: -2911.03\n",
            "----> Epoch 3,\t Batch 200,\t Train ELBO: -2910.56\n",
            "----> Epoch 3,\t Batch 300,\t Train ELBO: -2910.48\n",
            "----> Epoch 3,\t Batch 400,\t Train ELBO: -2910.29\n",
            "----> Epoch 3,\t Batch 500,\t Train ELBO: -2910.35\n",
            "----> Epoch 3,\t Batch 600,\t Train ELBO: -2910.17\n",
            "----> Epoch 3,\t Batch 700,\t Train ELBO: -2910.08\n",
            "----> Epoch 3,\t Batch 800,\t Train ELBO: -2909.86\n",
            "----> Epoch 3,\t Batch 900,\t Train ELBO: -2909.79\n",
            "----> Epoch 3,\t Batch 1000,\t Train ELBO: -2909.65\n",
            "-> Epoch 3,\t Train ELBO: -2909.64,\t Validation ELBO: -2908.49,\t Max Validation ELBO: -2908.49,\t Epoch Time: 21.75 seconds\n",
            "----> Epoch 4,\t Batch 0,\t Train ELBO: -2909.31\n",
            "----> Epoch 4,\t Batch 100,\t Train ELBO: -2908.62\n",
            "----> Epoch 4,\t Batch 200,\t Train ELBO: -2909.21\n",
            "----> Epoch 4,\t Batch 300,\t Train ELBO: -2909.34\n",
            "----> Epoch 4,\t Batch 400,\t Train ELBO: -2909.14\n",
            "----> Epoch 4,\t Batch 500,\t Train ELBO: -2909.07\n",
            "----> Epoch 4,\t Batch 600,\t Train ELBO: -2909.06\n",
            "----> Epoch 4,\t Batch 700,\t Train ELBO: -2908.75\n",
            "----> Epoch 4,\t Batch 800,\t Train ELBO: -2908.58\n",
            "----> Epoch 4,\t Batch 900,\t Train ELBO: -2908.47\n",
            "----> Epoch 4,\t Batch 1000,\t Train ELBO: -2908.35\n",
            "-> Epoch 4,\t Train ELBO: -2908.32,\t Validation ELBO: -2907.41,\t Max Validation ELBO: -2907.41,\t Epoch Time: 21.62 seconds\n",
            "----> Epoch 5,\t Batch 0,\t Train ELBO: -2908.46\n",
            "----> Epoch 5,\t Batch 100,\t Train ELBO: -2907.44\n",
            "----> Epoch 5,\t Batch 200,\t Train ELBO: -2907.89\n",
            "----> Epoch 5,\t Batch 300,\t Train ELBO: -2907.79\n",
            "----> Epoch 5,\t Batch 400,\t Train ELBO: -2907.91\n",
            "----> Epoch 5,\t Batch 500,\t Train ELBO: -2907.78\n",
            "----> Epoch 5,\t Batch 600,\t Train ELBO: -2907.70\n",
            "----> Epoch 5,\t Batch 700,\t Train ELBO: -2907.58\n",
            "----> Epoch 5,\t Batch 800,\t Train ELBO: -2907.39\n",
            "----> Epoch 5,\t Batch 900,\t Train ELBO: -2907.35\n",
            "----> Epoch 5,\t Batch 1000,\t Train ELBO: -2907.38\n",
            "-> Epoch 5,\t Train ELBO: -2907.37,\t Validation ELBO: -2906.59,\t Max Validation ELBO: -2906.59,\t Epoch Time: 21.85 seconds\n",
            "----> Epoch 6,\t Batch 0,\t Train ELBO: -2900.51\n",
            "----> Epoch 6,\t Batch 100,\t Train ELBO: -2906.54\n",
            "----> Epoch 6,\t Batch 200,\t Train ELBO: -2906.80\n",
            "----> Epoch 6,\t Batch 300,\t Train ELBO: -2906.77\n",
            "----> Epoch 6,\t Batch 400,\t Train ELBO: -2906.88\n",
            "----> Epoch 6,\t Batch 500,\t Train ELBO: -2906.84\n",
            "----> Epoch 6,\t Batch 600,\t Train ELBO: -2906.78\n",
            "----> Epoch 6,\t Batch 700,\t Train ELBO: -2906.73\n",
            "----> Epoch 6,\t Batch 800,\t Train ELBO: -2906.60\n",
            "----> Epoch 6,\t Batch 900,\t Train ELBO: -2906.54\n",
            "----> Epoch 6,\t Batch 1000,\t Train ELBO: -2906.57\n",
            "-> Epoch 6,\t Train ELBO: -2906.53,\t Validation ELBO: -2905.80,\t Max Validation ELBO: -2905.80,\t Epoch Time: 22.20 seconds\n",
            "----> Epoch 7,\t Batch 0,\t Train ELBO: -2902.47\n",
            "----> Epoch 7,\t Batch 100,\t Train ELBO: -2906.62\n",
            "----> Epoch 7,\t Batch 200,\t Train ELBO: -2906.08\n",
            "----> Epoch 7,\t Batch 300,\t Train ELBO: -2906.68\n",
            "----> Epoch 7,\t Batch 400,\t Train ELBO: -2906.37\n",
            "----> Epoch 7,\t Batch 500,\t Train ELBO: -2906.14\n",
            "----> Epoch 7,\t Batch 600,\t Train ELBO: -2906.12\n",
            "----> Epoch 7,\t Batch 700,\t Train ELBO: -2906.15\n",
            "----> Epoch 7,\t Batch 800,\t Train ELBO: -2906.11\n",
            "----> Epoch 7,\t Batch 900,\t Train ELBO: -2905.95\n",
            "----> Epoch 7,\t Batch 1000,\t Train ELBO: -2905.84\n",
            "-> Epoch 7,\t Train ELBO: -2905.85,\t Validation ELBO: -2905.58,\t Max Validation ELBO: -2905.58,\t Epoch Time: 22.10 seconds\n",
            "----> Epoch 8,\t Batch 0,\t Train ELBO: -2909.57\n",
            "----> Epoch 8,\t Batch 100,\t Train ELBO: -2905.30\n",
            "----> Epoch 8,\t Batch 200,\t Train ELBO: -2905.74\n",
            "----> Epoch 8,\t Batch 300,\t Train ELBO: -2905.55\n",
            "----> Epoch 8,\t Batch 400,\t Train ELBO: -2905.38\n",
            "----> Epoch 8,\t Batch 500,\t Train ELBO: -2905.29\n",
            "----> Epoch 8,\t Batch 600,\t Train ELBO: -2905.25\n",
            "----> Epoch 8,\t Batch 700,\t Train ELBO: -2905.28\n",
            "----> Epoch 8,\t Batch 800,\t Train ELBO: -2905.31\n",
            "----> Epoch 8,\t Batch 900,\t Train ELBO: -2905.36\n",
            "----> Epoch 8,\t Batch 1000,\t Train ELBO: -2905.30\n",
            "-> Epoch 8,\t Train ELBO: -2905.29,\t Validation ELBO: -2904.56,\t Max Validation ELBO: -2904.56,\t Epoch Time: 21.59 seconds\n",
            "----> Epoch 9,\t Batch 0,\t Train ELBO: -2897.56\n",
            "----> Epoch 9,\t Batch 100,\t Train ELBO: -2905.33\n",
            "----> Epoch 9,\t Batch 200,\t Train ELBO: -2905.15\n",
            "----> Epoch 9,\t Batch 300,\t Train ELBO: -2905.06\n",
            "----> Epoch 9,\t Batch 400,\t Train ELBO: -2904.79\n",
            "----> Epoch 9,\t Batch 500,\t Train ELBO: -2904.83\n",
            "----> Epoch 9,\t Batch 600,\t Train ELBO: -2905.01\n",
            "----> Epoch 9,\t Batch 700,\t Train ELBO: -2904.87\n",
            "----> Epoch 9,\t Batch 800,\t Train ELBO: -2904.95\n",
            "----> Epoch 9,\t Batch 900,\t Train ELBO: -2904.91\n",
            "----> Epoch 9,\t Batch 1000,\t Train ELBO: -2904.89\n",
            "-> Epoch 9,\t Train ELBO: -2904.87,\t Validation ELBO: -2904.45,\t Max Validation ELBO: -2904.45,\t Epoch Time: 23.50 seconds\n",
            "----> Epoch 10,\t Batch 0,\t Train ELBO: -2905.56\n",
            "----> Epoch 10,\t Batch 100,\t Train ELBO: -2904.78\n",
            "----> Epoch 10,\t Batch 200,\t Train ELBO: -2904.45\n",
            "----> Epoch 10,\t Batch 300,\t Train ELBO: -2904.24\n",
            "----> Epoch 10,\t Batch 400,\t Train ELBO: -2904.31\n",
            "----> Epoch 10,\t Batch 500,\t Train ELBO: -2904.59\n",
            "----> Epoch 10,\t Batch 600,\t Train ELBO: -2904.56\n",
            "----> Epoch 10,\t Batch 700,\t Train ELBO: -2904.68\n",
            "----> Epoch 10,\t Batch 800,\t Train ELBO: -2904.61\n",
            "----> Epoch 10,\t Batch 900,\t Train ELBO: -2904.61\n",
            "----> Epoch 10,\t Batch 1000,\t Train ELBO: -2904.54\n",
            "-> Epoch 10,\t Train ELBO: -2904.56,\t Validation ELBO: -2904.22,\t Max Validation ELBO: -2904.22,\t Epoch Time: 21.36 seconds\n",
            "----> Epoch 11,\t Batch 0,\t Train ELBO: -2910.96\n",
            "----> Epoch 11,\t Batch 100,\t Train ELBO: -2904.87\n",
            "----> Epoch 11,\t Batch 200,\t Train ELBO: -2904.40\n",
            "----> Epoch 11,\t Batch 300,\t Train ELBO: -2904.29\n",
            "----> Epoch 11,\t Batch 400,\t Train ELBO: -2904.18\n",
            "----> Epoch 11,\t Batch 500,\t Train ELBO: -2904.19\n",
            "----> Epoch 11,\t Batch 600,\t Train ELBO: -2904.16\n",
            "----> Epoch 11,\t Batch 700,\t Train ELBO: -2904.27\n",
            "----> Epoch 11,\t Batch 800,\t Train ELBO: -2904.19\n",
            "----> Epoch 11,\t Batch 900,\t Train ELBO: -2904.18\n",
            "----> Epoch 11,\t Batch 1000,\t Train ELBO: -2904.27\n",
            "-> Epoch 11,\t Train ELBO: -2904.30,\t Validation ELBO: -2904.13,\t Max Validation ELBO: -2904.13,\t Epoch Time: 21.51 seconds\n",
            "----> Epoch 12,\t Batch 0,\t Train ELBO: -2896.35\n",
            "----> Epoch 12,\t Batch 100,\t Train ELBO: -2904.01\n",
            "----> Epoch 12,\t Batch 200,\t Train ELBO: -2903.93\n",
            "----> Epoch 12,\t Batch 300,\t Train ELBO: -2903.96\n",
            "----> Epoch 12,\t Batch 400,\t Train ELBO: -2903.87\n",
            "----> Epoch 12,\t Batch 500,\t Train ELBO: -2904.07\n",
            "----> Epoch 12,\t Batch 600,\t Train ELBO: -2904.22\n",
            "----> Epoch 12,\t Batch 700,\t Train ELBO: -2904.31\n",
            "----> Epoch 12,\t Batch 800,\t Train ELBO: -2904.21\n",
            "----> Epoch 12,\t Batch 900,\t Train ELBO: -2904.14\n",
            "----> Epoch 12,\t Batch 1000,\t Train ELBO: -2904.04\n",
            "-> Epoch 12,\t Train ELBO: -2904.02,\t Validation ELBO: -2903.71,\t Max Validation ELBO: -2903.71,\t Epoch Time: 21.32 seconds\n",
            "----> Epoch 13,\t Batch 0,\t Train ELBO: -2897.84\n",
            "----> Epoch 13,\t Batch 100,\t Train ELBO: -2903.98\n",
            "----> Epoch 13,\t Batch 200,\t Train ELBO: -2904.27\n",
            "----> Epoch 13,\t Batch 300,\t Train ELBO: -2904.08\n",
            "----> Epoch 13,\t Batch 400,\t Train ELBO: -2903.78\n",
            "----> Epoch 13,\t Batch 500,\t Train ELBO: -2903.97\n",
            "----> Epoch 13,\t Batch 600,\t Train ELBO: -2903.80\n",
            "----> Epoch 13,\t Batch 700,\t Train ELBO: -2903.71\n",
            "----> Epoch 13,\t Batch 800,\t Train ELBO: -2903.65\n",
            "----> Epoch 13,\t Batch 900,\t Train ELBO: -2903.68\n",
            "----> Epoch 13,\t Batch 1000,\t Train ELBO: -2903.68\n",
            "-> Epoch 13,\t Train ELBO: -2903.71,\t Validation ELBO: -2903.48,\t Max Validation ELBO: -2903.48,\t Epoch Time: 22.33 seconds\n",
            "----> Epoch 14,\t Batch 0,\t Train ELBO: -2897.85\n",
            "----> Epoch 14,\t Batch 100,\t Train ELBO: -2903.47\n",
            "----> Epoch 14,\t Batch 200,\t Train ELBO: -2903.83\n",
            "----> Epoch 14,\t Batch 300,\t Train ELBO: -2903.62\n",
            "----> Epoch 14,\t Batch 400,\t Train ELBO: -2903.24\n",
            "----> Epoch 14,\t Batch 500,\t Train ELBO: -2903.39\n",
            "----> Epoch 14,\t Batch 600,\t Train ELBO: -2903.53\n",
            "----> Epoch 14,\t Batch 700,\t Train ELBO: -2903.72\n",
            "----> Epoch 14,\t Batch 800,\t Train ELBO: -2903.70\n",
            "----> Epoch 14,\t Batch 900,\t Train ELBO: -2903.64\n",
            "----> Epoch 14,\t Batch 1000,\t Train ELBO: -2903.60\n",
            "-> Epoch 14,\t Train ELBO: -2903.59,\t Validation ELBO: -2903.25,\t Max Validation ELBO: -2903.25,\t Epoch Time: 21.50 seconds\n",
            "----> Epoch 15,\t Batch 0,\t Train ELBO: -2897.84\n",
            "----> Epoch 15,\t Batch 100,\t Train ELBO: -2902.88\n",
            "----> Epoch 15,\t Batch 200,\t Train ELBO: -2902.61\n",
            "----> Epoch 15,\t Batch 300,\t Train ELBO: -2903.02\n",
            "----> Epoch 15,\t Batch 400,\t Train ELBO: -2903.32\n",
            "----> Epoch 15,\t Batch 500,\t Train ELBO: -2903.29\n",
            "----> Epoch 15,\t Batch 600,\t Train ELBO: -2903.22\n",
            "----> Epoch 15,\t Batch 700,\t Train ELBO: -2903.22\n",
            "----> Epoch 15,\t Batch 800,\t Train ELBO: -2903.31\n",
            "----> Epoch 15,\t Batch 900,\t Train ELBO: -2903.34\n",
            "----> Epoch 15,\t Batch 1000,\t Train ELBO: -2903.34\n",
            "-> Epoch 15,\t Train ELBO: -2903.37,\t Validation ELBO: -2903.20,\t Max Validation ELBO: -2903.20,\t Epoch Time: 21.51 seconds\n",
            "----> Epoch 16,\t Batch 0,\t Train ELBO: -2894.99\n",
            "----> Epoch 16,\t Batch 100,\t Train ELBO: -2903.33\n",
            "----> Epoch 16,\t Batch 200,\t Train ELBO: -2903.34\n",
            "----> Epoch 16,\t Batch 300,\t Train ELBO: -2903.64\n",
            "----> Epoch 16,\t Batch 400,\t Train ELBO: -2903.51\n",
            "----> Epoch 16,\t Batch 500,\t Train ELBO: -2903.40\n",
            "----> Epoch 16,\t Batch 600,\t Train ELBO: -2903.29\n",
            "----> Epoch 16,\t Batch 700,\t Train ELBO: -2903.33\n",
            "----> Epoch 16,\t Batch 800,\t Train ELBO: -2903.32\n",
            "----> Epoch 16,\t Batch 900,\t Train ELBO: -2903.19\n",
            "----> Epoch 16,\t Batch 1000,\t Train ELBO: -2903.18\n",
            "-> Epoch 16,\t Train ELBO: -2903.22,\t Validation ELBO: -2902.92,\t Max Validation ELBO: -2902.92,\t Epoch Time: 22.00 seconds\n",
            "----> Epoch 17,\t Batch 0,\t Train ELBO: -2898.10\n",
            "----> Epoch 17,\t Batch 100,\t Train ELBO: -2903.41\n",
            "----> Epoch 17,\t Batch 200,\t Train ELBO: -2903.20\n",
            "----> Epoch 17,\t Batch 300,\t Train ELBO: -2903.14\n",
            "----> Epoch 17,\t Batch 400,\t Train ELBO: -2902.88\n",
            "----> Epoch 17,\t Batch 500,\t Train ELBO: -2902.83\n",
            "----> Epoch 17,\t Batch 600,\t Train ELBO: -2903.04\n",
            "----> Epoch 17,\t Batch 700,\t Train ELBO: -2903.02\n",
            "----> Epoch 17,\t Batch 800,\t Train ELBO: -2903.15\n",
            "----> Epoch 17,\t Batch 900,\t Train ELBO: -2903.19\n",
            "----> Epoch 17,\t Batch 1000,\t Train ELBO: -2903.08\n",
            "-> Epoch 17,\t Train ELBO: -2903.04,\t Validation ELBO: -2903.03,\t Max Validation ELBO: -2902.92,\t Epoch Time: 21.83 seconds\n",
            "----> Epoch 18,\t Batch 0,\t Train ELBO: -2905.50\n",
            "----> Epoch 18,\t Batch 100,\t Train ELBO: -2902.64\n",
            "----> Epoch 18,\t Batch 200,\t Train ELBO: -2903.07\n",
            "----> Epoch 18,\t Batch 300,\t Train ELBO: -2903.07\n",
            "----> Epoch 18,\t Batch 400,\t Train ELBO: -2903.17\n",
            "----> Epoch 18,\t Batch 500,\t Train ELBO: -2903.16\n",
            "----> Epoch 18,\t Batch 600,\t Train ELBO: -2903.17\n",
            "----> Epoch 18,\t Batch 700,\t Train ELBO: -2903.17\n",
            "----> Epoch 18,\t Batch 800,\t Train ELBO: -2903.06\n",
            "----> Epoch 18,\t Batch 900,\t Train ELBO: -2903.03\n",
            "----> Epoch 18,\t Batch 1000,\t Train ELBO: -2902.97\n",
            "-> Epoch 18,\t Train ELBO: -2902.93,\t Validation ELBO: -2902.90,\t Max Validation ELBO: -2902.90,\t Epoch Time: 21.43 seconds\n",
            "----> Epoch 19,\t Batch 0,\t Train ELBO: -2906.50\n",
            "----> Epoch 19,\t Batch 100,\t Train ELBO: -2903.36\n",
            "----> Epoch 19,\t Batch 200,\t Train ELBO: -2902.99\n",
            "----> Epoch 19,\t Batch 300,\t Train ELBO: -2902.56\n",
            "----> Epoch 19,\t Batch 400,\t Train ELBO: -2902.93\n",
            "----> Epoch 19,\t Batch 500,\t Train ELBO: -2902.88\n",
            "----> Epoch 19,\t Batch 600,\t Train ELBO: -2902.86\n",
            "----> Epoch 19,\t Batch 700,\t Train ELBO: -2902.84\n",
            "----> Epoch 19,\t Batch 800,\t Train ELBO: -2902.87\n",
            "----> Epoch 19,\t Batch 900,\t Train ELBO: -2902.82\n",
            "----> Epoch 19,\t Batch 1000,\t Train ELBO: -2902.77\n",
            "-> Epoch 19,\t Train ELBO: -2902.80,\t Validation ELBO: -2902.56,\t Max Validation ELBO: -2902.56,\t Epoch Time: 21.38 seconds\n"
          ],
          "name": "stdout"
        }
      ]
    },
    {
      "metadata": {
        "id": "KActuZhkqjJY",
        "colab_type": "code",
        "colab": {
          "base_uri": "https://localhost:8080/",
          "height": 474
        },
        "outputId": "4fc67be1-64ab-4435-db59-c538da4d27b4"
      },
      "cell_type": "code",
      "source": [
        "!zip -r VAE_SVHN_model_001.zip VAE_SVHN_model_001\n",
        "upload_to_drive('VAE_SVHN_model_001.zip')"
      ],
      "execution_count": 12,
      "outputs": [
        {
          "output_type": "stream",
          "text": [
            "  adding: VAE_SVHN_model_012/ (stored 0%)\n",
            "  adding: VAE_SVHN_model_012/generated_val_samples_best.png (deflated 0%)\n",
            "  adding: VAE_SVHN_model_012/generated_train_samples_best.png (deflated 0%)\n",
            "  adding: VAE_SVHN_model_012/generated_random_samples_3.png (deflated 0%)\n",
            "  adding: VAE_SVHN_model_012/original_train_samples.png (deflated 0%)\n",
            "  adding: VAE_SVHN_model_012/generated_val_samples_9.png (deflated 0%)\n",
            "  adding: VAE_SVHN_model_012/generated_random_samples_best.png (deflated 0%)\n",
            "  adding: VAE_SVHN_model_012/generated_random_samples_9.png (deflated 0%)\n",
            "  adding: VAE_SVHN_model_012/stats.csv (deflated 47%)\n",
            "  adding: VAE_SVHN_model_012/generated_val_samples_6.png (deflated 0%)\n",
            "  adding: VAE_SVHN_model_012/model_epoch_0.pt (deflated 9%)\n",
            "  adding: VAE_SVHN_model_012/generated_train_samples_6.png (deflated 0%)\n",
            "  adding: VAE_SVHN_model_012/generated_random_samples_6.png (deflated 0%)\n",
            "  adding: VAE_SVHN_model_012/model_epoch_9.pt (deflated 8%)\n",
            "  adding: VAE_SVHN_model_012/model_epoch_6.pt (deflated 8%)\n",
            "  adding: VAE_SVHN_model_012/generated_random_samples_0.png (deflated 0%)\n",
            "  adding: VAE_SVHN_model_012/generated_val_samples_0.png (deflated 0%)\n",
            "  adding: VAE_SVHN_model_012/generated_val_samples_3.png (deflated 0%)\n",
            "  adding: VAE_SVHN_model_012/model_best.pt (deflated 8%)\n",
            "  adding: VAE_SVHN_model_012/generated_train_samples_9.png (deflated 0%)\n",
            "  adding: VAE_SVHN_model_012/original_val_samples.png (deflated 0%)\n",
            "  adding: VAE_SVHN_model_012/model_epoch_3.pt (deflated 8%)\n",
            "  adding: VAE_SVHN_model_012/generated_train_samples_0.png (deflated 0%)\n",
            "  adding: VAE_SVHN_model_012/generated_train_samples_3.png (deflated 0%)\n",
            "  adding: VAE_SVHN_model_012/architecture.txt (deflated 75%)\n"
          ],
          "name": "stdout"
        },
        {
          "output_type": "execute_result",
          "data": {
            "text/plain": [
              "GoogleDriveFile({'title': 'VAE_SVHN_model_012.zip', 'mimeType': 'application/zip', 'kind': 'drive#file', 'id': '1nPKFBweeU2hec-1obWg0G5OhjzSAxwEw', 'etag': '\"O-ZzQh-gY65a42kIgC9WL9_4IwE/MTU1NTU2NjA3NTY1OQ\"', 'selfLink': 'https://www.googleapis.com/drive/v2/files/1nPKFBweeU2hec-1obWg0G5OhjzSAxwEw', 'webContentLink': 'https://drive.google.com/uc?id=1nPKFBweeU2hec-1obWg0G5OhjzSAxwEw&export=download', 'alternateLink': 'https://drive.google.com/file/d/1nPKFBweeU2hec-1obWg0G5OhjzSAxwEw/view?usp=drivesdk', 'embedLink': 'https://drive.google.com/file/d/1nPKFBweeU2hec-1obWg0G5OhjzSAxwEw/preview?usp=drivesdk', 'iconLink': 'https://drive-thirdparty.googleusercontent.com/16/type/application/zip', 'labels': {'starred': False, 'hidden': False, 'trashed': False, 'restricted': False, 'viewed': True}, 'copyRequiresWriterPermission': False, 'createdDate': '2019-04-18T05:41:15.659Z', 'modifiedDate': '2019-04-18T05:41:15.659Z', 'modifiedByMeDate': '2019-04-18T05:41:15.659Z', 'lastViewedByMeDate': '2019-04-18T05:41:15.659Z', 'markedViewedByMeDate': '1970-01-01T00:00:00.000Z', 'version': '2', 'parents': [{'kind': 'drive#parentReference', 'id': '0AFLeeQZdQE_9Uk9PVA', 'selfLink': 'https://www.googleapis.com/drive/v2/files/1nPKFBweeU2hec-1obWg0G5OhjzSAxwEw/parents/0AFLeeQZdQE_9Uk9PVA', 'parentLink': 'https://www.googleapis.com/drive/v2/files/0AFLeeQZdQE_9Uk9PVA', 'isRoot': True}], 'downloadUrl': 'https://doc-0s-3c-docs.googleusercontent.com/docs/securesc/u0icvvqc8tauo9j3l3vij9uhhiav37qc/sl7p91o94f99f6f64qok62p3gc3g6m8g/1555560000000/01747415457873478729/01747415457873478729/1nPKFBweeU2hec-1obWg0G5OhjzSAxwEw?e=download&gd=true', 'userPermission': {'kind': 'drive#permission', 'etag': '\"O-ZzQh-gY65a42kIgC9WL9_4IwE/HMM9yVLJ732RKImz9rQvwB7IjGI\"', 'id': 'me', 'selfLink': 'https://www.googleapis.com/drive/v2/files/1nPKFBweeU2hec-1obWg0G5OhjzSAxwEw/permissions/me', 'role': 'owner', 'type': 'user'}, 'originalFilename': 'VAE_SVHN_model_012.zip', 'fileExtension': 'zip', 'md5Checksum': '28fb2287c66eb7a1f725b8e6115fa00c', 'fileSize': '63308318', 'quotaBytesUsed': '63308318', 'ownerNames': ['Mohamed Ashraf'], 'owners': [{'kind': 'drive#user', 'displayName': 'Mohamed Ashraf', 'picture': {'url': 'https://lh4.googleusercontent.com/---els9x1hTk/AAAAAAAAAAI/AAAAAAAAAmA/qBJsQQXJmp8/s64/photo.jpg'}, 'isAuthenticatedUser': True, 'permissionId': '01747415457873478729', 'emailAddress': 'mohamedashraf9412@gmail.com'}], 'lastModifyingUserName': 'Mohamed Ashraf', 'lastModifyingUser': {'kind': 'drive#user', 'displayName': 'Mohamed Ashraf', 'picture': {'url': 'https://lh4.googleusercontent.com/---els9x1hTk/AAAAAAAAAAI/AAAAAAAAAmA/qBJsQQXJmp8/s64/photo.jpg'}, 'isAuthenticatedUser': True, 'permissionId': '01747415457873478729', 'emailAddress': 'mohamedashraf9412@gmail.com'}, 'capabilities': {'canCopy': True, 'canEdit': True}, 'editable': True, 'copyable': True, 'writersCanShare': True, 'shared': False, 'explicitlyTrashed': False, 'appDataContents': False, 'headRevisionId': '0B1LeeQZdQE_9bGQvZkczc0xrWG13cEdJVDlFU3ZxT0dvSUUwPQ', 'spaces': ['drive']})"
            ]
          },
          "metadata": {
            "tags": []
          },
          "execution_count": 12
        }
      ]
    },
    {
      "metadata": {
        "id": "jLd_7Nsxvs39",
        "colab_type": "code",
        "colab": {}
      },
      "cell_type": "code",
      "source": [
        ""
      ],
      "execution_count": 0,
      "outputs": []
    }
  ]
}